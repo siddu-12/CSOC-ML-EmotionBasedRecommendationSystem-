{
 "cells": [
  {
   "cell_type": "code",
   "execution_count": 1,
   "id": "b850b1dc",
   "metadata": {},
   "outputs": [
    {
     "name": "stdout",
     "output_type": "stream",
     "text": [
      "Requirement already satisfied: spotipy in c:\\users\\siddanth shetty\\appdata\\local\\programs\\python\\python39\\lib\\site-packages (2.20.0)\n",
      "Requirement already satisfied: redis>=3.5.3 in c:\\users\\siddanth shetty\\appdata\\local\\programs\\python\\python39\\lib\\site-packages (from spotipy) (4.3.4)\n",
      "Requirement already satisfied: requests>=2.25.0 in c:\\users\\siddanth shetty\\appdata\\local\\programs\\python\\python39\\lib\\site-packages (from spotipy) (2.28.1)\n",
      "Note: you may need to restart the kernel to use updated packages.\n"
     ]
    },
    {
     "name": "stderr",
     "output_type": "stream",
     "text": [
      "WARNING: There was an error checking the latest version of pip.\n"
     ]
    },
    {
     "name": "stdout",
     "output_type": "stream",
     "text": [
      "Requirement already satisfied: six>=1.15.0 in c:\\users\\siddanth shetty\\appdata\\local\\programs\\python\\python39\\lib\\site-packages (from spotipy) (1.16.0)\n",
      "Requirement already satisfied: urllib3>=1.26.0 in c:\\users\\siddanth shetty\\appdata\\local\\programs\\python\\python39\\lib\\site-packages (from spotipy) (1.26.9)\n",
      "Requirement already satisfied: packaging>=20.4 in c:\\users\\siddanth shetty\\appdata\\local\\programs\\python\\python39\\lib\\site-packages (from redis>=3.5.3->spotipy) (21.3)\n",
      "Requirement already satisfied: async-timeout>=4.0.2 in c:\\users\\siddanth shetty\\appdata\\local\\programs\\python\\python39\\lib\\site-packages (from redis>=3.5.3->spotipy) (4.0.2)\n",
      "Requirement already satisfied: deprecated>=1.2.3 in c:\\users\\siddanth shetty\\appdata\\local\\programs\\python\\python39\\lib\\site-packages (from redis>=3.5.3->spotipy) (1.2.13)\n",
      "Requirement already satisfied: charset-normalizer<3,>=2 in c:\\users\\siddanth shetty\\appdata\\local\\programs\\python\\python39\\lib\\site-packages (from requests>=2.25.0->spotipy) (2.1.0)\n",
      "Requirement already satisfied: certifi>=2017.4.17 in c:\\users\\siddanth shetty\\appdata\\local\\programs\\python\\python39\\lib\\site-packages (from requests>=2.25.0->spotipy) (2022.6.15)\n",
      "Requirement already satisfied: idna<4,>=2.5 in c:\\users\\siddanth shetty\\appdata\\local\\programs\\python\\python39\\lib\\site-packages (from requests>=2.25.0->spotipy) (3.3)\n",
      "Requirement already satisfied: wrapt<2,>=1.10 in c:\\users\\siddanth shetty\\appdata\\local\\programs\\python\\python39\\lib\\site-packages (from deprecated>=1.2.3->redis>=3.5.3->spotipy) (1.14.1)\n",
      "Requirement already satisfied: pyparsing!=3.0.5,>=2.0.2 in c:\\users\\siddanth shetty\\appdata\\local\\programs\\python\\python39\\lib\\site-packages (from packaging>=20.4->redis>=3.5.3->spotipy) (3.0.8)\n"
     ]
    }
   ],
   "source": [
    "pip install spotipy"
   ]
  },
  {
   "cell_type": "code",
   "execution_count": 2,
   "id": "616a3433",
   "metadata": {},
   "outputs": [],
   "source": [
    "import spotipy\n",
    "from spotipy.oauth2 import SpotifyClientCredentials\n",
    "import spotipy.util as util #import libs\n",
    "\n",
    "import pandas as pd\n",
    "# import torch\n",
    "import numpy as np"
   ]
  },
  {
   "cell_type": "markdown",
   "id": "a5e7be87",
   "metadata": {},
   "source": [
    "## Loading the spotify dataset from kaggle to train our model"
   ]
  },
  {
   "cell_type": "code",
   "execution_count": 3,
   "id": "25e864e3",
   "metadata": {},
   "outputs": [],
   "source": [
    "df_all=pd.read_csv(\"genres_v2.csv\",low_memory=False)"
   ]
  },
  {
   "cell_type": "code",
   "execution_count": 4,
   "id": "6f4869e5",
   "metadata": {},
   "outputs": [
    {
     "data": {
      "text/html": [
       "<div>\n",
       "<style scoped>\n",
       "    .dataframe tbody tr th:only-of-type {\n",
       "        vertical-align: middle;\n",
       "    }\n",
       "\n",
       "    .dataframe tbody tr th {\n",
       "        vertical-align: top;\n",
       "    }\n",
       "\n",
       "    .dataframe thead th {\n",
       "        text-align: right;\n",
       "    }\n",
       "</style>\n",
       "<table border=\"1\" class=\"dataframe\">\n",
       "  <thead>\n",
       "    <tr style=\"text-align: right;\">\n",
       "      <th></th>\n",
       "      <th>danceability</th>\n",
       "      <th>energy</th>\n",
       "      <th>key</th>\n",
       "      <th>loudness</th>\n",
       "      <th>mode</th>\n",
       "      <th>speechiness</th>\n",
       "      <th>acousticness</th>\n",
       "      <th>instrumentalness</th>\n",
       "      <th>liveness</th>\n",
       "      <th>valence</th>\n",
       "      <th>...</th>\n",
       "      <th>id</th>\n",
       "      <th>uri</th>\n",
       "      <th>track_href</th>\n",
       "      <th>analysis_url</th>\n",
       "      <th>duration_ms</th>\n",
       "      <th>time_signature</th>\n",
       "      <th>genre</th>\n",
       "      <th>song_name</th>\n",
       "      <th>Unnamed: 0</th>\n",
       "      <th>title</th>\n",
       "    </tr>\n",
       "  </thead>\n",
       "  <tbody>\n",
       "    <tr>\n",
       "      <th>0</th>\n",
       "      <td>0.831</td>\n",
       "      <td>0.814</td>\n",
       "      <td>2</td>\n",
       "      <td>-7.364</td>\n",
       "      <td>1</td>\n",
       "      <td>0.4200</td>\n",
       "      <td>0.0598</td>\n",
       "      <td>0.013400</td>\n",
       "      <td>0.0556</td>\n",
       "      <td>0.3890</td>\n",
       "      <td>...</td>\n",
       "      <td>2Vc6NJ9PW9gD9q343XFRKx</td>\n",
       "      <td>spotify:track:2Vc6NJ9PW9gD9q343XFRKx</td>\n",
       "      <td>https://api.spotify.com/v1/tracks/2Vc6NJ9PW9gD...</td>\n",
       "      <td>https://api.spotify.com/v1/audio-analysis/2Vc6...</td>\n",
       "      <td>124539</td>\n",
       "      <td>4</td>\n",
       "      <td>Dark Trap</td>\n",
       "      <td>Mercury: Retrograde</td>\n",
       "      <td>NaN</td>\n",
       "      <td>NaN</td>\n",
       "    </tr>\n",
       "    <tr>\n",
       "      <th>1</th>\n",
       "      <td>0.719</td>\n",
       "      <td>0.493</td>\n",
       "      <td>8</td>\n",
       "      <td>-7.230</td>\n",
       "      <td>1</td>\n",
       "      <td>0.0794</td>\n",
       "      <td>0.4010</td>\n",
       "      <td>0.000000</td>\n",
       "      <td>0.1180</td>\n",
       "      <td>0.1240</td>\n",
       "      <td>...</td>\n",
       "      <td>7pgJBLVz5VmnL7uGHmRj6p</td>\n",
       "      <td>spotify:track:7pgJBLVz5VmnL7uGHmRj6p</td>\n",
       "      <td>https://api.spotify.com/v1/tracks/7pgJBLVz5Vmn...</td>\n",
       "      <td>https://api.spotify.com/v1/audio-analysis/7pgJ...</td>\n",
       "      <td>224427</td>\n",
       "      <td>4</td>\n",
       "      <td>Dark Trap</td>\n",
       "      <td>Pathology</td>\n",
       "      <td>NaN</td>\n",
       "      <td>NaN</td>\n",
       "    </tr>\n",
       "    <tr>\n",
       "      <th>2</th>\n",
       "      <td>0.850</td>\n",
       "      <td>0.893</td>\n",
       "      <td>5</td>\n",
       "      <td>-4.783</td>\n",
       "      <td>1</td>\n",
       "      <td>0.0623</td>\n",
       "      <td>0.0138</td>\n",
       "      <td>0.000004</td>\n",
       "      <td>0.3720</td>\n",
       "      <td>0.0391</td>\n",
       "      <td>...</td>\n",
       "      <td>0vSWgAlfpye0WCGeNmuNhy</td>\n",
       "      <td>spotify:track:0vSWgAlfpye0WCGeNmuNhy</td>\n",
       "      <td>https://api.spotify.com/v1/tracks/0vSWgAlfpye0...</td>\n",
       "      <td>https://api.spotify.com/v1/audio-analysis/0vSW...</td>\n",
       "      <td>98821</td>\n",
       "      <td>4</td>\n",
       "      <td>Dark Trap</td>\n",
       "      <td>Symbiote</td>\n",
       "      <td>NaN</td>\n",
       "      <td>NaN</td>\n",
       "    </tr>\n",
       "    <tr>\n",
       "      <th>3</th>\n",
       "      <td>0.476</td>\n",
       "      <td>0.781</td>\n",
       "      <td>0</td>\n",
       "      <td>-4.710</td>\n",
       "      <td>1</td>\n",
       "      <td>0.1030</td>\n",
       "      <td>0.0237</td>\n",
       "      <td>0.000000</td>\n",
       "      <td>0.1140</td>\n",
       "      <td>0.1750</td>\n",
       "      <td>...</td>\n",
       "      <td>0VSXnJqQkwuH2ei1nOQ1nu</td>\n",
       "      <td>spotify:track:0VSXnJqQkwuH2ei1nOQ1nu</td>\n",
       "      <td>https://api.spotify.com/v1/tracks/0VSXnJqQkwuH...</td>\n",
       "      <td>https://api.spotify.com/v1/audio-analysis/0VSX...</td>\n",
       "      <td>123661</td>\n",
       "      <td>3</td>\n",
       "      <td>Dark Trap</td>\n",
       "      <td>ProductOfDrugs (Prod. The Virus and Antidote)</td>\n",
       "      <td>NaN</td>\n",
       "      <td>NaN</td>\n",
       "    </tr>\n",
       "    <tr>\n",
       "      <th>4</th>\n",
       "      <td>0.798</td>\n",
       "      <td>0.624</td>\n",
       "      <td>2</td>\n",
       "      <td>-7.668</td>\n",
       "      <td>1</td>\n",
       "      <td>0.2930</td>\n",
       "      <td>0.2170</td>\n",
       "      <td>0.000000</td>\n",
       "      <td>0.1660</td>\n",
       "      <td>0.5910</td>\n",
       "      <td>...</td>\n",
       "      <td>4jCeguq9rMTlbMmPHuO7S3</td>\n",
       "      <td>spotify:track:4jCeguq9rMTlbMmPHuO7S3</td>\n",
       "      <td>https://api.spotify.com/v1/tracks/4jCeguq9rMTl...</td>\n",
       "      <td>https://api.spotify.com/v1/audio-analysis/4jCe...</td>\n",
       "      <td>123298</td>\n",
       "      <td>4</td>\n",
       "      <td>Dark Trap</td>\n",
       "      <td>Venom</td>\n",
       "      <td>NaN</td>\n",
       "      <td>NaN</td>\n",
       "    </tr>\n",
       "  </tbody>\n",
       "</table>\n",
       "<p>5 rows × 22 columns</p>\n",
       "</div>"
      ],
      "text/plain": [
       "   danceability  energy  key  loudness  mode  speechiness  acousticness  \\\n",
       "0         0.831   0.814    2    -7.364     1       0.4200        0.0598   \n",
       "1         0.719   0.493    8    -7.230     1       0.0794        0.4010   \n",
       "2         0.850   0.893    5    -4.783     1       0.0623        0.0138   \n",
       "3         0.476   0.781    0    -4.710     1       0.1030        0.0237   \n",
       "4         0.798   0.624    2    -7.668     1       0.2930        0.2170   \n",
       "\n",
       "   instrumentalness  liveness  valence  ...                      id  \\\n",
       "0          0.013400    0.0556   0.3890  ...  2Vc6NJ9PW9gD9q343XFRKx   \n",
       "1          0.000000    0.1180   0.1240  ...  7pgJBLVz5VmnL7uGHmRj6p   \n",
       "2          0.000004    0.3720   0.0391  ...  0vSWgAlfpye0WCGeNmuNhy   \n",
       "3          0.000000    0.1140   0.1750  ...  0VSXnJqQkwuH2ei1nOQ1nu   \n",
       "4          0.000000    0.1660   0.5910  ...  4jCeguq9rMTlbMmPHuO7S3   \n",
       "\n",
       "                                    uri  \\\n",
       "0  spotify:track:2Vc6NJ9PW9gD9q343XFRKx   \n",
       "1  spotify:track:7pgJBLVz5VmnL7uGHmRj6p   \n",
       "2  spotify:track:0vSWgAlfpye0WCGeNmuNhy   \n",
       "3  spotify:track:0VSXnJqQkwuH2ei1nOQ1nu   \n",
       "4  spotify:track:4jCeguq9rMTlbMmPHuO7S3   \n",
       "\n",
       "                                          track_href  \\\n",
       "0  https://api.spotify.com/v1/tracks/2Vc6NJ9PW9gD...   \n",
       "1  https://api.spotify.com/v1/tracks/7pgJBLVz5Vmn...   \n",
       "2  https://api.spotify.com/v1/tracks/0vSWgAlfpye0...   \n",
       "3  https://api.spotify.com/v1/tracks/0VSXnJqQkwuH...   \n",
       "4  https://api.spotify.com/v1/tracks/4jCeguq9rMTl...   \n",
       "\n",
       "                                        analysis_url duration_ms  \\\n",
       "0  https://api.spotify.com/v1/audio-analysis/2Vc6...      124539   \n",
       "1  https://api.spotify.com/v1/audio-analysis/7pgJ...      224427   \n",
       "2  https://api.spotify.com/v1/audio-analysis/0vSW...       98821   \n",
       "3  https://api.spotify.com/v1/audio-analysis/0VSX...      123661   \n",
       "4  https://api.spotify.com/v1/audio-analysis/4jCe...      123298   \n",
       "\n",
       "  time_signature      genre                                      song_name  \\\n",
       "0              4  Dark Trap                            Mercury: Retrograde   \n",
       "1              4  Dark Trap                                      Pathology   \n",
       "2              4  Dark Trap                                       Symbiote   \n",
       "3              3  Dark Trap  ProductOfDrugs (Prod. The Virus and Antidote)   \n",
       "4              4  Dark Trap                                          Venom   \n",
       "\n",
       "  Unnamed: 0 title  \n",
       "0        NaN   NaN  \n",
       "1        NaN   NaN  \n",
       "2        NaN   NaN  \n",
       "3        NaN   NaN  \n",
       "4        NaN   NaN  \n",
       "\n",
       "[5 rows x 22 columns]"
      ]
     },
     "execution_count": 4,
     "metadata": {},
     "output_type": "execute_result"
    }
   ],
   "source": [
    "df_all.head()"
   ]
  },
  {
   "cell_type": "code",
   "execution_count": 5,
   "id": "a79f9bd4",
   "metadata": {},
   "outputs": [
    {
     "data": {
      "text/plain": [
       "(42305, 22)"
      ]
     },
     "execution_count": 5,
     "metadata": {},
     "output_type": "execute_result"
    }
   ],
   "source": [
    "df_all.shape"
   ]
  },
  {
   "cell_type": "code",
   "execution_count": 6,
   "id": "ab678b42",
   "metadata": {},
   "outputs": [
    {
     "data": {
      "text/html": [
       "<div>\n",
       "<style scoped>\n",
       "    .dataframe tbody tr th:only-of-type {\n",
       "        vertical-align: middle;\n",
       "    }\n",
       "\n",
       "    .dataframe tbody tr th {\n",
       "        vertical-align: top;\n",
       "    }\n",
       "\n",
       "    .dataframe thead th {\n",
       "        text-align: right;\n",
       "    }\n",
       "</style>\n",
       "<table border=\"1\" class=\"dataframe\">\n",
       "  <thead>\n",
       "    <tr style=\"text-align: right;\">\n",
       "      <th></th>\n",
       "      <th>danceability</th>\n",
       "      <th>energy</th>\n",
       "      <th>key</th>\n",
       "      <th>loudness</th>\n",
       "      <th>mode</th>\n",
       "      <th>speechiness</th>\n",
       "      <th>acousticness</th>\n",
       "      <th>instrumentalness</th>\n",
       "      <th>liveness</th>\n",
       "      <th>valence</th>\n",
       "      <th>tempo</th>\n",
       "      <th>duration_ms</th>\n",
       "      <th>time_signature</th>\n",
       "      <th>Unnamed: 0</th>\n",
       "    </tr>\n",
       "  </thead>\n",
       "  <tbody>\n",
       "    <tr>\n",
       "      <th>count</th>\n",
       "      <td>42305.000000</td>\n",
       "      <td>42305.000000</td>\n",
       "      <td>42305.000000</td>\n",
       "      <td>42305.000000</td>\n",
       "      <td>42305.000000</td>\n",
       "      <td>42305.000000</td>\n",
       "      <td>42305.000000</td>\n",
       "      <td>42305.000000</td>\n",
       "      <td>42305.000000</td>\n",
       "      <td>42305.000000</td>\n",
       "      <td>42305.000000</td>\n",
       "      <td>42305.000000</td>\n",
       "      <td>42305.000000</td>\n",
       "      <td>20780.000000</td>\n",
       "    </tr>\n",
       "    <tr>\n",
       "      <th>mean</th>\n",
       "      <td>0.639364</td>\n",
       "      <td>0.762516</td>\n",
       "      <td>5.370240</td>\n",
       "      <td>-6.465442</td>\n",
       "      <td>0.549462</td>\n",
       "      <td>0.136561</td>\n",
       "      <td>0.096160</td>\n",
       "      <td>0.283048</td>\n",
       "      <td>0.214079</td>\n",
       "      <td>0.357101</td>\n",
       "      <td>147.474056</td>\n",
       "      <td>250865.846685</td>\n",
       "      <td>3.972580</td>\n",
       "      <td>10483.970645</td>\n",
       "    </tr>\n",
       "    <tr>\n",
       "      <th>std</th>\n",
       "      <td>0.156617</td>\n",
       "      <td>0.183823</td>\n",
       "      <td>3.666145</td>\n",
       "      <td>2.941165</td>\n",
       "      <td>0.497553</td>\n",
       "      <td>0.126168</td>\n",
       "      <td>0.170827</td>\n",
       "      <td>0.370791</td>\n",
       "      <td>0.175576</td>\n",
       "      <td>0.233200</td>\n",
       "      <td>23.844623</td>\n",
       "      <td>102957.713571</td>\n",
       "      <td>0.268342</td>\n",
       "      <td>6052.359519</td>\n",
       "    </tr>\n",
       "    <tr>\n",
       "      <th>min</th>\n",
       "      <td>0.065100</td>\n",
       "      <td>0.000243</td>\n",
       "      <td>0.000000</td>\n",
       "      <td>-33.357000</td>\n",
       "      <td>0.000000</td>\n",
       "      <td>0.022700</td>\n",
       "      <td>0.000001</td>\n",
       "      <td>0.000000</td>\n",
       "      <td>0.010700</td>\n",
       "      <td>0.018700</td>\n",
       "      <td>57.967000</td>\n",
       "      <td>25600.000000</td>\n",
       "      <td>1.000000</td>\n",
       "      <td>0.000000</td>\n",
       "    </tr>\n",
       "    <tr>\n",
       "      <th>25%</th>\n",
       "      <td>0.524000</td>\n",
       "      <td>0.632000</td>\n",
       "      <td>1.000000</td>\n",
       "      <td>-8.161000</td>\n",
       "      <td>0.000000</td>\n",
       "      <td>0.049100</td>\n",
       "      <td>0.001730</td>\n",
       "      <td>0.000000</td>\n",
       "      <td>0.099600</td>\n",
       "      <td>0.161000</td>\n",
       "      <td>129.931000</td>\n",
       "      <td>179840.000000</td>\n",
       "      <td>4.000000</td>\n",
       "      <td>5255.750000</td>\n",
       "    </tr>\n",
       "    <tr>\n",
       "      <th>50%</th>\n",
       "      <td>0.646000</td>\n",
       "      <td>0.803000</td>\n",
       "      <td>6.000000</td>\n",
       "      <td>-6.234000</td>\n",
       "      <td>1.000000</td>\n",
       "      <td>0.075500</td>\n",
       "      <td>0.016400</td>\n",
       "      <td>0.005940</td>\n",
       "      <td>0.135000</td>\n",
       "      <td>0.322000</td>\n",
       "      <td>144.973000</td>\n",
       "      <td>224760.000000</td>\n",
       "      <td>4.000000</td>\n",
       "      <td>10479.500000</td>\n",
       "    </tr>\n",
       "    <tr>\n",
       "      <th>75%</th>\n",
       "      <td>0.766000</td>\n",
       "      <td>0.923000</td>\n",
       "      <td>9.000000</td>\n",
       "      <td>-4.513000</td>\n",
       "      <td>1.000000</td>\n",
       "      <td>0.193000</td>\n",
       "      <td>0.107000</td>\n",
       "      <td>0.722000</td>\n",
       "      <td>0.294000</td>\n",
       "      <td>0.522000</td>\n",
       "      <td>161.464000</td>\n",
       "      <td>301133.000000</td>\n",
       "      <td>4.000000</td>\n",
       "      <td>15709.250000</td>\n",
       "    </tr>\n",
       "    <tr>\n",
       "      <th>max</th>\n",
       "      <td>0.988000</td>\n",
       "      <td>1.000000</td>\n",
       "      <td>11.000000</td>\n",
       "      <td>3.148000</td>\n",
       "      <td>1.000000</td>\n",
       "      <td>0.946000</td>\n",
       "      <td>0.988000</td>\n",
       "      <td>0.989000</td>\n",
       "      <td>0.988000</td>\n",
       "      <td>0.988000</td>\n",
       "      <td>220.290000</td>\n",
       "      <td>913052.000000</td>\n",
       "      <td>5.000000</td>\n",
       "      <td>20999.000000</td>\n",
       "    </tr>\n",
       "  </tbody>\n",
       "</table>\n",
       "</div>"
      ],
      "text/plain": [
       "       danceability        energy           key      loudness          mode  \\\n",
       "count  42305.000000  42305.000000  42305.000000  42305.000000  42305.000000   \n",
       "mean       0.639364      0.762516      5.370240     -6.465442      0.549462   \n",
       "std        0.156617      0.183823      3.666145      2.941165      0.497553   \n",
       "min        0.065100      0.000243      0.000000    -33.357000      0.000000   \n",
       "25%        0.524000      0.632000      1.000000     -8.161000      0.000000   \n",
       "50%        0.646000      0.803000      6.000000     -6.234000      1.000000   \n",
       "75%        0.766000      0.923000      9.000000     -4.513000      1.000000   \n",
       "max        0.988000      1.000000     11.000000      3.148000      1.000000   \n",
       "\n",
       "        speechiness  acousticness  instrumentalness      liveness  \\\n",
       "count  42305.000000  42305.000000      42305.000000  42305.000000   \n",
       "mean       0.136561      0.096160          0.283048      0.214079   \n",
       "std        0.126168      0.170827          0.370791      0.175576   \n",
       "min        0.022700      0.000001          0.000000      0.010700   \n",
       "25%        0.049100      0.001730          0.000000      0.099600   \n",
       "50%        0.075500      0.016400          0.005940      0.135000   \n",
       "75%        0.193000      0.107000          0.722000      0.294000   \n",
       "max        0.946000      0.988000          0.989000      0.988000   \n",
       "\n",
       "            valence         tempo    duration_ms  time_signature    Unnamed: 0  \n",
       "count  42305.000000  42305.000000   42305.000000    42305.000000  20780.000000  \n",
       "mean       0.357101    147.474056  250865.846685        3.972580  10483.970645  \n",
       "std        0.233200     23.844623  102957.713571        0.268342   6052.359519  \n",
       "min        0.018700     57.967000   25600.000000        1.000000      0.000000  \n",
       "25%        0.161000    129.931000  179840.000000        4.000000   5255.750000  \n",
       "50%        0.322000    144.973000  224760.000000        4.000000  10479.500000  \n",
       "75%        0.522000    161.464000  301133.000000        4.000000  15709.250000  \n",
       "max        0.988000    220.290000  913052.000000        5.000000  20999.000000  "
      ]
     },
     "execution_count": 6,
     "metadata": {},
     "output_type": "execute_result"
    }
   ],
   "source": [
    "df_all.describe()"
   ]
  },
  {
   "cell_type": "markdown",
   "id": "c41482c1",
   "metadata": {},
   "source": [
    "## Feature Preprocessing"
   ]
  },
  {
   "cell_type": "code",
   "execution_count": 7,
   "id": "c70b6c4b",
   "metadata": {},
   "outputs": [],
   "source": [
    "features=df_all[[\"acousticness\", \"danceability\", \"liveness\",\"energy\", \"instrumentalness\", \"loudness\", \"speechiness\",\"valence\"]]\n",
    "#the following features are chosen from the dataset as they can come in handy to determine the overall mood of the song."
   ]
  },
  {
   "cell_type": "code",
   "execution_count": 8,
   "id": "7bc7f72a",
   "metadata": {},
   "outputs": [
    {
     "data": {
      "text/html": [
       "<div>\n",
       "<style scoped>\n",
       "    .dataframe tbody tr th:only-of-type {\n",
       "        vertical-align: middle;\n",
       "    }\n",
       "\n",
       "    .dataframe tbody tr th {\n",
       "        vertical-align: top;\n",
       "    }\n",
       "\n",
       "    .dataframe thead th {\n",
       "        text-align: right;\n",
       "    }\n",
       "</style>\n",
       "<table border=\"1\" class=\"dataframe\">\n",
       "  <thead>\n",
       "    <tr style=\"text-align: right;\">\n",
       "      <th></th>\n",
       "      <th>acousticness</th>\n",
       "      <th>danceability</th>\n",
       "      <th>liveness</th>\n",
       "      <th>energy</th>\n",
       "      <th>instrumentalness</th>\n",
       "      <th>loudness</th>\n",
       "      <th>speechiness</th>\n",
       "      <th>valence</th>\n",
       "    </tr>\n",
       "  </thead>\n",
       "  <tbody>\n",
       "    <tr>\n",
       "      <th>0</th>\n",
       "      <td>0.0598</td>\n",
       "      <td>0.831</td>\n",
       "      <td>0.0556</td>\n",
       "      <td>0.814</td>\n",
       "      <td>0.013400</td>\n",
       "      <td>-7.364</td>\n",
       "      <td>0.4200</td>\n",
       "      <td>0.3890</td>\n",
       "    </tr>\n",
       "    <tr>\n",
       "      <th>1</th>\n",
       "      <td>0.4010</td>\n",
       "      <td>0.719</td>\n",
       "      <td>0.1180</td>\n",
       "      <td>0.493</td>\n",
       "      <td>0.000000</td>\n",
       "      <td>-7.230</td>\n",
       "      <td>0.0794</td>\n",
       "      <td>0.1240</td>\n",
       "    </tr>\n",
       "    <tr>\n",
       "      <th>2</th>\n",
       "      <td>0.0138</td>\n",
       "      <td>0.850</td>\n",
       "      <td>0.3720</td>\n",
       "      <td>0.893</td>\n",
       "      <td>0.000004</td>\n",
       "      <td>-4.783</td>\n",
       "      <td>0.0623</td>\n",
       "      <td>0.0391</td>\n",
       "    </tr>\n",
       "    <tr>\n",
       "      <th>3</th>\n",
       "      <td>0.0237</td>\n",
       "      <td>0.476</td>\n",
       "      <td>0.1140</td>\n",
       "      <td>0.781</td>\n",
       "      <td>0.000000</td>\n",
       "      <td>-4.710</td>\n",
       "      <td>0.1030</td>\n",
       "      <td>0.1750</td>\n",
       "    </tr>\n",
       "    <tr>\n",
       "      <th>4</th>\n",
       "      <td>0.2170</td>\n",
       "      <td>0.798</td>\n",
       "      <td>0.1660</td>\n",
       "      <td>0.624</td>\n",
       "      <td>0.000000</td>\n",
       "      <td>-7.668</td>\n",
       "      <td>0.2930</td>\n",
       "      <td>0.5910</td>\n",
       "    </tr>\n",
       "    <tr>\n",
       "      <th>5</th>\n",
       "      <td>0.0452</td>\n",
       "      <td>0.721</td>\n",
       "      <td>0.1280</td>\n",
       "      <td>0.568</td>\n",
       "      <td>0.212000</td>\n",
       "      <td>-11.295</td>\n",
       "      <td>0.4140</td>\n",
       "      <td>0.1090</td>\n",
       "    </tr>\n",
       "    <tr>\n",
       "      <th>6</th>\n",
       "      <td>0.0254</td>\n",
       "      <td>0.718</td>\n",
       "      <td>0.1240</td>\n",
       "      <td>0.668</td>\n",
       "      <td>0.007800</td>\n",
       "      <td>-4.162</td>\n",
       "      <td>0.1370</td>\n",
       "      <td>0.0380</td>\n",
       "    </tr>\n",
       "    <tr>\n",
       "      <th>7</th>\n",
       "      <td>0.0397</td>\n",
       "      <td>0.694</td>\n",
       "      <td>0.1120</td>\n",
       "      <td>0.711</td>\n",
       "      <td>0.000000</td>\n",
       "      <td>-5.525</td>\n",
       "      <td>0.2210</td>\n",
       "      <td>0.2830</td>\n",
       "    </tr>\n",
       "    <tr>\n",
       "      <th>8</th>\n",
       "      <td>0.0614</td>\n",
       "      <td>0.774</td>\n",
       "      <td>0.0728</td>\n",
       "      <td>0.751</td>\n",
       "      <td>0.000000</td>\n",
       "      <td>-2.445</td>\n",
       "      <td>0.1980</td>\n",
       "      <td>0.1890</td>\n",
       "    </tr>\n",
       "    <tr>\n",
       "      <th>9</th>\n",
       "      <td>0.1520</td>\n",
       "      <td>0.893</td>\n",
       "      <td>0.5580</td>\n",
       "      <td>0.907</td>\n",
       "      <td>0.031100</td>\n",
       "      <td>-10.406</td>\n",
       "      <td>0.3670</td>\n",
       "      <td>0.3020</td>\n",
       "    </tr>\n",
       "  </tbody>\n",
       "</table>\n",
       "</div>"
      ],
      "text/plain": [
       "   acousticness  danceability  liveness  energy  instrumentalness  loudness  \\\n",
       "0        0.0598         0.831    0.0556   0.814          0.013400    -7.364   \n",
       "1        0.4010         0.719    0.1180   0.493          0.000000    -7.230   \n",
       "2        0.0138         0.850    0.3720   0.893          0.000004    -4.783   \n",
       "3        0.0237         0.476    0.1140   0.781          0.000000    -4.710   \n",
       "4        0.2170         0.798    0.1660   0.624          0.000000    -7.668   \n",
       "5        0.0452         0.721    0.1280   0.568          0.212000   -11.295   \n",
       "6        0.0254         0.718    0.1240   0.668          0.007800    -4.162   \n",
       "7        0.0397         0.694    0.1120   0.711          0.000000    -5.525   \n",
       "8        0.0614         0.774    0.0728   0.751          0.000000    -2.445   \n",
       "9        0.1520         0.893    0.5580   0.907          0.031100   -10.406   \n",
       "\n",
       "   speechiness  valence  \n",
       "0       0.4200   0.3890  \n",
       "1       0.0794   0.1240  \n",
       "2       0.0623   0.0391  \n",
       "3       0.1030   0.1750  \n",
       "4       0.2930   0.5910  \n",
       "5       0.4140   0.1090  \n",
       "6       0.1370   0.0380  \n",
       "7       0.2210   0.2830  \n",
       "8       0.1980   0.1890  \n",
       "9       0.3670   0.3020  "
      ]
     },
     "execution_count": 8,
     "metadata": {},
     "output_type": "execute_result"
    }
   ],
   "source": [
    "features.head(10)"
   ]
  },
  {
   "cell_type": "code",
   "execution_count": 9,
   "id": "a444a0ea",
   "metadata": {},
   "outputs": [],
   "source": [
    "# we see that all the relevant features have a value ranging between 0 to 1 except for loudness."
   ]
  },
  {
   "cell_type": "code",
   "execution_count": 10,
   "id": "64fad543",
   "metadata": {},
   "outputs": [
    {
     "name": "stdout",
     "output_type": "stream",
     "text": [
      "Requirement already satisfied: scikit-learn in c:\\users\\siddanth shetty\\appdata\\local\\programs\\python\\python39\\lib\\site-packages (1.1.1)\n",
      "Requirement already satisfied: threadpoolctl>=2.0.0 in c:\\users\\siddanth shetty\\appdata\\local\\programs\\python\\python39\\lib\\site-packages (from scikit-learn) (3.1.0)\n",
      "Requirement already satisfied: joblib>=1.0.0 in c:\\users\\siddanth shetty\\appdata\\local\\programs\\python\\python39\\lib\\site-packages (from scikit-learn) (1.1.0)\n",
      "Requirement already satisfied: numpy>=1.17.3 in c:\\users\\siddanth shetty\\appdata\\local\\programs\\python\\python39\\lib\\site-packages (from scikit-learn) (1.22.1)\n",
      "Requirement already satisfied: scipy>=1.3.2 in c:\\users\\siddanth shetty\\appdata\\local\\programs\\python\\python39\\lib\\site-packages (from scikit-learn) (1.8.1)\n",
      "\n",
      "[notice] A new release of pip available: 22.1.2 -> 22.2.2\n",
      "[notice] To update, run: python.exe -m pip install --upgrade pip\n"
     ]
    }
   ],
   "source": [
    "!pip install scikit-learn\n",
    "from sklearn import preprocessing \n",
    "scaler=preprocessing.MinMaxScaler()"
   ]
  },
  {
   "cell_type": "code",
   "execution_count": 11,
   "id": "61886a63",
   "metadata": {},
   "outputs": [],
   "source": [
    "loudness=features[\"loudness\"].values\n",
    "loudness_scaled=scaler.fit_transform(loudness.reshape(-1, 1))"
   ]
  },
  {
   "cell_type": "code",
   "execution_count": 12,
   "id": "7ebe93e3",
   "metadata": {},
   "outputs": [
    {
     "name": "stderr",
     "output_type": "stream",
     "text": [
      "C:\\Users\\Siddanth Shetty\\AppData\\Local\\Temp\\ipykernel_27876\\3116982282.py:1: SettingWithCopyWarning: \n",
      "A value is trying to be set on a copy of a slice from a DataFrame.\n",
      "Try using .loc[row_indexer,col_indexer] = value instead\n",
      "\n",
      "See the caveats in the documentation: https://pandas.pydata.org/pandas-docs/stable/user_guide/indexing.html#returning-a-view-versus-a-copy\n",
      "  features[\"loudness\"]=loudness_scaled\n"
     ]
    }
   ],
   "source": [
    "features[\"loudness\"]=loudness_scaled"
   ]
  },
  {
   "cell_type": "code",
   "execution_count": 13,
   "id": "f2621122",
   "metadata": {},
   "outputs": [
    {
     "data": {
      "text/html": [
       "<div>\n",
       "<style scoped>\n",
       "    .dataframe tbody tr th:only-of-type {\n",
       "        vertical-align: middle;\n",
       "    }\n",
       "\n",
       "    .dataframe tbody tr th {\n",
       "        vertical-align: top;\n",
       "    }\n",
       "\n",
       "    .dataframe thead th {\n",
       "        text-align: right;\n",
       "    }\n",
       "</style>\n",
       "<table border=\"1\" class=\"dataframe\">\n",
       "  <thead>\n",
       "    <tr style=\"text-align: right;\">\n",
       "      <th></th>\n",
       "      <th>acousticness</th>\n",
       "      <th>danceability</th>\n",
       "      <th>liveness</th>\n",
       "      <th>energy</th>\n",
       "      <th>instrumentalness</th>\n",
       "      <th>loudness</th>\n",
       "      <th>speechiness</th>\n",
       "      <th>valence</th>\n",
       "    </tr>\n",
       "  </thead>\n",
       "  <tbody>\n",
       "    <tr>\n",
       "      <th>0</th>\n",
       "      <td>0.0598</td>\n",
       "      <td>0.831</td>\n",
       "      <td>0.0556</td>\n",
       "      <td>0.814</td>\n",
       "      <td>0.013400</td>\n",
       "      <td>0.712039</td>\n",
       "      <td>0.4200</td>\n",
       "      <td>0.3890</td>\n",
       "    </tr>\n",
       "    <tr>\n",
       "      <th>1</th>\n",
       "      <td>0.4010</td>\n",
       "      <td>0.719</td>\n",
       "      <td>0.1180</td>\n",
       "      <td>0.493</td>\n",
       "      <td>0.000000</td>\n",
       "      <td>0.715710</td>\n",
       "      <td>0.0794</td>\n",
       "      <td>0.1240</td>\n",
       "    </tr>\n",
       "    <tr>\n",
       "      <th>2</th>\n",
       "      <td>0.0138</td>\n",
       "      <td>0.850</td>\n",
       "      <td>0.3720</td>\n",
       "      <td>0.893</td>\n",
       "      <td>0.000004</td>\n",
       "      <td>0.782742</td>\n",
       "      <td>0.0623</td>\n",
       "      <td>0.0391</td>\n",
       "    </tr>\n",
       "    <tr>\n",
       "      <th>3</th>\n",
       "      <td>0.0237</td>\n",
       "      <td>0.476</td>\n",
       "      <td>0.1140</td>\n",
       "      <td>0.781</td>\n",
       "      <td>0.000000</td>\n",
       "      <td>0.784742</td>\n",
       "      <td>0.1030</td>\n",
       "      <td>0.1750</td>\n",
       "    </tr>\n",
       "    <tr>\n",
       "      <th>4</th>\n",
       "      <td>0.2170</td>\n",
       "      <td>0.798</td>\n",
       "      <td>0.1660</td>\n",
       "      <td>0.624</td>\n",
       "      <td>0.000000</td>\n",
       "      <td>0.703712</td>\n",
       "      <td>0.2930</td>\n",
       "      <td>0.5910</td>\n",
       "    </tr>\n",
       "  </tbody>\n",
       "</table>\n",
       "</div>"
      ],
      "text/plain": [
       "   acousticness  danceability  liveness  energy  instrumentalness  loudness  \\\n",
       "0        0.0598         0.831    0.0556   0.814          0.013400  0.712039   \n",
       "1        0.4010         0.719    0.1180   0.493          0.000000  0.715710   \n",
       "2        0.0138         0.850    0.3720   0.893          0.000004  0.782742   \n",
       "3        0.0237         0.476    0.1140   0.781          0.000000  0.784742   \n",
       "4        0.2170         0.798    0.1660   0.624          0.000000  0.703712   \n",
       "\n",
       "   speechiness  valence  \n",
       "0       0.4200   0.3890  \n",
       "1       0.0794   0.1240  \n",
       "2       0.0623   0.0391  \n",
       "3       0.1030   0.1750  \n",
       "4       0.2930   0.5910  "
      ]
     },
     "execution_count": 13,
     "metadata": {},
     "output_type": "execute_result"
    }
   ],
   "source": [
    "features.head()"
   ]
  },
  {
   "cell_type": "markdown",
   "id": "08278ee2",
   "metadata": {},
   "source": [
    "### Selecting the right K-means model using an elbow plot for the given data"
   ]
  },
  {
   "cell_type": "code",
   "execution_count": 14,
   "id": "76f8c9f6",
   "metadata": {},
   "outputs": [
    {
     "name": "stdout",
     "output_type": "stream",
     "text": [
      "Completed:1\n",
      "Completed:2\n",
      "Completed:3\n",
      "Completed:4\n",
      "Completed:5\n",
      "Completed:6\n",
      "Completed:7\n",
      "Completed:8\n",
      "Completed:9\n",
      "Completed:10\n",
      "Completed:11\n",
      "Completed:12\n",
      "Completed:13\n",
      "Completed:14\n",
      "Completed:15\n",
      "Completed:16\n",
      "Completed:17\n",
      "Completed:18\n",
      "Completed:19\n",
      "Completed:20\n",
      "Completed:21\n",
      "Completed:22\n",
      "Completed:23\n",
      "Completed:24\n",
      "Completed:25\n"
     ]
    }
   ],
   "source": [
    "from sklearn.cluster import KMeans\n",
    "Sum_of_squared_distances = []\n",
    " #let's use elbow method to find out what the optimal k is \n",
    "for k in range(1,26):\n",
    "    model = KMeans(n_clusters=k)\n",
    "    model = model.fit(features)\n",
    "    Sum_of_squared_distances.append(model.inertia_)\n",
    "    print(f'Completed:{k}')"
   ]
  },
  {
   "cell_type": "code",
   "execution_count": 15,
   "id": "62ac2e0e",
   "metadata": {},
   "outputs": [
    {
     "data": {
      "image/png": "[encoded data removed]",
      "text/plain": [
       "<Figure size 432x216 with 1 Axes>"
      ]
     },
     "metadata": {
      "needs_background": "light"
     },
     "output_type": "display_data"
    }
   ],
   "source": [
    "import matplotlib.pyplot as plt #Elbow method\n",
    "plt.figure(figsize=(6,3))\n",
    "plt.plot(list(range(1,26)),Sum_of_squared_distances,'bx-')\n",
    "plt.ylabel('Sum_of_squared_distances')\n",
    "plt.xlabel('# clusters')\n",
    "plt.show()"
   ]
  },
  {
   "cell_type": "code",
   "execution_count": 16,
   "id": "9496f9b6",
   "metadata": {},
   "outputs": [
    {
     "data": {
      "image/png": "[encoded data removed]",
      "text/plain": [
       "<Figure size 432x216 with 1 Axes>"
      ]
     },
     "metadata": {
      "needs_background": "light"
     },
     "output_type": "display_data"
    }
   ],
   "source": [
    "plt.figure(figsize=(6,3))\n",
    "plt.plot(list(range(1,11)),Sum_of_squared_distances[:10],'bx-')\n",
    "plt.ylabel('Sum_of_squared_distances')\n",
    "plt.xlabel('# clusters')\n",
    "plt.show()"
   ]
  },
  {
   "cell_type": "markdown",
   "id": "1f12b077",
   "metadata": {},
   "source": [
    "### 4,5 and 6 seem like plausible choices for number of clusters from the elbow plot but since we are recommending songs for 6 emotions in our final model we will go ahead with value of k as 6 to find 6 clusters."
   ]
  },
  {
   "cell_type": "code",
   "execution_count": 17,
   "id": "f3ff55f2",
   "metadata": {},
   "outputs": [],
   "source": [
    "from sklearn.cluster import KMeans\n",
    "model = KMeans(n_clusters=6)\n",
    "model = model.fit(features)"
   ]
  },
  {
   "cell_type": "code",
   "execution_count": 18,
   "id": "e82d8ea6",
   "metadata": {},
   "outputs": [
    {
     "name": "stdout",
     "output_type": "stream",
     "text": [
      "8313\n",
      "9871\n",
      "9947\n",
      "2858\n",
      "7345\n",
      "3971\n"
     ]
    }
   ],
   "source": [
    "predictions=model.predict(features)\n",
    "\n",
    "for i in range(6):\n",
    "    print(np.count_nonzero(predictions == i))"
   ]
  },
  {
   "cell_type": "code",
   "execution_count": 19,
   "id": "df6a73a0",
   "metadata": {},
   "outputs": [
    {
     "data": {
      "text/html": [
       "<div>\n",
       "<style scoped>\n",
       "    .dataframe tbody tr th:only-of-type {\n",
       "        vertical-align: middle;\n",
       "    }\n",
       "\n",
       "    .dataframe tbody tr th {\n",
       "        vertical-align: top;\n",
       "    }\n",
       "\n",
       "    .dataframe thead th {\n",
       "        text-align: right;\n",
       "    }\n",
       "</style>\n",
       "<table border=\"1\" class=\"dataframe\">\n",
       "  <thead>\n",
       "    <tr style=\"text-align: right;\">\n",
       "      <th></th>\n",
       "      <th>danceability</th>\n",
       "      <th>energy</th>\n",
       "      <th>key</th>\n",
       "      <th>loudness</th>\n",
       "      <th>mode</th>\n",
       "      <th>speechiness</th>\n",
       "      <th>acousticness</th>\n",
       "      <th>instrumentalness</th>\n",
       "      <th>liveness</th>\n",
       "      <th>valence</th>\n",
       "      <th>...</th>\n",
       "      <th>uri</th>\n",
       "      <th>track_href</th>\n",
       "      <th>analysis_url</th>\n",
       "      <th>duration_ms</th>\n",
       "      <th>time_signature</th>\n",
       "      <th>genre</th>\n",
       "      <th>song_name</th>\n",
       "      <th>Unnamed: 0</th>\n",
       "      <th>title</th>\n",
       "      <th>cluster</th>\n",
       "    </tr>\n",
       "  </thead>\n",
       "  <tbody>\n",
       "    <tr>\n",
       "      <th>0</th>\n",
       "      <td>0.831</td>\n",
       "      <td>0.814</td>\n",
       "      <td>2</td>\n",
       "      <td>-7.364</td>\n",
       "      <td>1</td>\n",
       "      <td>0.4200</td>\n",
       "      <td>0.0598</td>\n",
       "      <td>0.013400</td>\n",
       "      <td>0.0556</td>\n",
       "      <td>0.3890</td>\n",
       "      <td>...</td>\n",
       "      <td>spotify:track:2Vc6NJ9PW9gD9q343XFRKx</td>\n",
       "      <td>https://api.spotify.com/v1/tracks/2Vc6NJ9PW9gD...</td>\n",
       "      <td>https://api.spotify.com/v1/audio-analysis/2Vc6...</td>\n",
       "      <td>124539</td>\n",
       "      <td>4</td>\n",
       "      <td>Dark Trap</td>\n",
       "      <td>Mercury: Retrograde</td>\n",
       "      <td>NaN</td>\n",
       "      <td>NaN</td>\n",
       "      <td>4</td>\n",
       "    </tr>\n",
       "    <tr>\n",
       "      <th>1</th>\n",
       "      <td>0.719</td>\n",
       "      <td>0.493</td>\n",
       "      <td>8</td>\n",
       "      <td>-7.230</td>\n",
       "      <td>1</td>\n",
       "      <td>0.0794</td>\n",
       "      <td>0.4010</td>\n",
       "      <td>0.000000</td>\n",
       "      <td>0.1180</td>\n",
       "      <td>0.1240</td>\n",
       "      <td>...</td>\n",
       "      <td>spotify:track:7pgJBLVz5VmnL7uGHmRj6p</td>\n",
       "      <td>https://api.spotify.com/v1/tracks/7pgJBLVz5Vmn...</td>\n",
       "      <td>https://api.spotify.com/v1/audio-analysis/7pgJ...</td>\n",
       "      <td>224427</td>\n",
       "      <td>4</td>\n",
       "      <td>Dark Trap</td>\n",
       "      <td>Pathology</td>\n",
       "      <td>NaN</td>\n",
       "      <td>NaN</td>\n",
       "      <td>3</td>\n",
       "    </tr>\n",
       "    <tr>\n",
       "      <th>2</th>\n",
       "      <td>0.850</td>\n",
       "      <td>0.893</td>\n",
       "      <td>5</td>\n",
       "      <td>-4.783</td>\n",
       "      <td>1</td>\n",
       "      <td>0.0623</td>\n",
       "      <td>0.0138</td>\n",
       "      <td>0.000004</td>\n",
       "      <td>0.3720</td>\n",
       "      <td>0.0391</td>\n",
       "      <td>...</td>\n",
       "      <td>spotify:track:0vSWgAlfpye0WCGeNmuNhy</td>\n",
       "      <td>https://api.spotify.com/v1/tracks/0vSWgAlfpye0...</td>\n",
       "      <td>https://api.spotify.com/v1/audio-analysis/0vSW...</td>\n",
       "      <td>98821</td>\n",
       "      <td>4</td>\n",
       "      <td>Dark Trap</td>\n",
       "      <td>Symbiote</td>\n",
       "      <td>NaN</td>\n",
       "      <td>NaN</td>\n",
       "      <td>2</td>\n",
       "    </tr>\n",
       "    <tr>\n",
       "      <th>3</th>\n",
       "      <td>0.476</td>\n",
       "      <td>0.781</td>\n",
       "      <td>0</td>\n",
       "      <td>-4.710</td>\n",
       "      <td>1</td>\n",
       "      <td>0.1030</td>\n",
       "      <td>0.0237</td>\n",
       "      <td>0.000000</td>\n",
       "      <td>0.1140</td>\n",
       "      <td>0.1750</td>\n",
       "      <td>...</td>\n",
       "      <td>spotify:track:0VSXnJqQkwuH2ei1nOQ1nu</td>\n",
       "      <td>https://api.spotify.com/v1/tracks/0VSXnJqQkwuH...</td>\n",
       "      <td>https://api.spotify.com/v1/audio-analysis/0VSX...</td>\n",
       "      <td>123661</td>\n",
       "      <td>3</td>\n",
       "      <td>Dark Trap</td>\n",
       "      <td>ProductOfDrugs (Prod. The Virus and Antidote)</td>\n",
       "      <td>NaN</td>\n",
       "      <td>NaN</td>\n",
       "      <td>2</td>\n",
       "    </tr>\n",
       "    <tr>\n",
       "      <th>4</th>\n",
       "      <td>0.798</td>\n",
       "      <td>0.624</td>\n",
       "      <td>2</td>\n",
       "      <td>-7.668</td>\n",
       "      <td>1</td>\n",
       "      <td>0.2930</td>\n",
       "      <td>0.2170</td>\n",
       "      <td>0.000000</td>\n",
       "      <td>0.1660</td>\n",
       "      <td>0.5910</td>\n",
       "      <td>...</td>\n",
       "      <td>spotify:track:4jCeguq9rMTlbMmPHuO7S3</td>\n",
       "      <td>https://api.spotify.com/v1/tracks/4jCeguq9rMTl...</td>\n",
       "      <td>https://api.spotify.com/v1/audio-analysis/4jCe...</td>\n",
       "      <td>123298</td>\n",
       "      <td>4</td>\n",
       "      <td>Dark Trap</td>\n",
       "      <td>Venom</td>\n",
       "      <td>NaN</td>\n",
       "      <td>NaN</td>\n",
       "      <td>0</td>\n",
       "    </tr>\n",
       "  </tbody>\n",
       "</table>\n",
       "<p>5 rows × 23 columns</p>\n",
       "</div>"
      ],
      "text/plain": [
       "   danceability  energy  key  loudness  mode  speechiness  acousticness  \\\n",
       "0         0.831   0.814    2    -7.364     1       0.4200        0.0598   \n",
       "1         0.719   0.493    8    -7.230     1       0.0794        0.4010   \n",
       "2         0.850   0.893    5    -4.783     1       0.0623        0.0138   \n",
       "3         0.476   0.781    0    -4.710     1       0.1030        0.0237   \n",
       "4         0.798   0.624    2    -7.668     1       0.2930        0.2170   \n",
       "\n",
       "   instrumentalness  liveness  valence  ...  \\\n",
       "0          0.013400    0.0556   0.3890  ...   \n",
       "1          0.000000    0.1180   0.1240  ...   \n",
       "2          0.000004    0.3720   0.0391  ...   \n",
       "3          0.000000    0.1140   0.1750  ...   \n",
       "4          0.000000    0.1660   0.5910  ...   \n",
       "\n",
       "                                    uri  \\\n",
       "0  spotify:track:2Vc6NJ9PW9gD9q343XFRKx   \n",
       "1  spotify:track:7pgJBLVz5VmnL7uGHmRj6p   \n",
       "2  spotify:track:0vSWgAlfpye0WCGeNmuNhy   \n",
       "3  spotify:track:0VSXnJqQkwuH2ei1nOQ1nu   \n",
       "4  spotify:track:4jCeguq9rMTlbMmPHuO7S3   \n",
       "\n",
       "                                          track_href  \\\n",
       "0  https://api.spotify.com/v1/tracks/2Vc6NJ9PW9gD...   \n",
       "1  https://api.spotify.com/v1/tracks/7pgJBLVz5Vmn...   \n",
       "2  https://api.spotify.com/v1/tracks/0vSWgAlfpye0...   \n",
       "3  https://api.spotify.com/v1/tracks/0VSXnJqQkwuH...   \n",
       "4  https://api.spotify.com/v1/tracks/4jCeguq9rMTl...   \n",
       "\n",
       "                                        analysis_url duration_ms  \\\n",
       "0  https://api.spotify.com/v1/audio-analysis/2Vc6...      124539   \n",
       "1  https://api.spotify.com/v1/audio-analysis/7pgJ...      224427   \n",
       "2  https://api.spotify.com/v1/audio-analysis/0vSW...       98821   \n",
       "3  https://api.spotify.com/v1/audio-analysis/0VSX...      123661   \n",
       "4  https://api.spotify.com/v1/audio-analysis/4jCe...      123298   \n",
       "\n",
       "  time_signature      genre                                      song_name  \\\n",
       "0              4  Dark Trap                            Mercury: Retrograde   \n",
       "1              4  Dark Trap                                      Pathology   \n",
       "2              4  Dark Trap                                       Symbiote   \n",
       "3              3  Dark Trap  ProductOfDrugs (Prod. The Virus and Antidote)   \n",
       "4              4  Dark Trap                                          Venom   \n",
       "\n",
       "   Unnamed: 0 title cluster  \n",
       "0         NaN   NaN       4  \n",
       "1         NaN   NaN       3  \n",
       "2         NaN   NaN       2  \n",
       "3         NaN   NaN       2  \n",
       "4         NaN   NaN       0  \n",
       "\n",
       "[5 rows x 23 columns]"
      ]
     },
     "execution_count": 19,
     "metadata": {},
     "output_type": "execute_result"
    }
   ],
   "source": [
    "df_all['cluster']=predictions\n",
    "df_all.head()"
   ]
  },
  {
   "cell_type": "markdown",
   "id": "a05e6f0b",
   "metadata": {},
   "source": [
    "## Visualising the derived clusters"
   ]
  },
  {
   "cell_type": "code",
   "execution_count": 20,
   "id": "db42846a",
   "metadata": {},
   "outputs": [],
   "source": [
    "from sklearn import decomposition\n",
    "pca=decomposition.PCA(n_components=2)"
   ]
  },
  {
   "cell_type": "code",
   "execution_count": 21,
   "id": "d42ba88b",
   "metadata": {},
   "outputs": [],
   "source": [
    "pca_result = pca.fit_transform(features)\n",
    "df=pd.DataFrame(pca_result)\n",
    "df['cluster']=predictions"
   ]
  },
  {
   "cell_type": "code",
   "execution_count": 22,
   "id": "e23bec3e",
   "metadata": {},
   "outputs": [
    {
     "name": "stderr",
     "output_type": "stream",
     "text": [
      "C:\\Users\\Siddanth Shetty\\AppData\\Local\\Temp\\ipykernel_27876\\1329048935.py:10: UserWarning: Matplotlib is currently using module://matplotlib_inline.backend_inline, which is a non-GUI backend, so cannot show the figure.\n",
      "  fig.show()\n"
     ]
    },
    {
     "data": {
      "image/png": "[encoded data removed]",
      "text/plain": [
       "<Figure size 432x288 with 2 Axes>"
      ]
     },
     "metadata": {
      "needs_background": "light"
     },
     "output_type": "display_data"
    }
   ],
   "source": [
    "import matplotlib.pyplot as plt\n",
    "fig = plt.figure()\n",
    "ax = fig.add_subplot(111)\n",
    "\n",
    "scatter = ax.scatter(df.iloc[:,0].values, df.iloc[:,1].values,c=predictions,s=50)\n",
    "ax.set_xlabel('x')\n",
    "ax.set_ylabel('y')\n",
    "plt.colorbar(scatter)\n",
    "\n",
    "fig.show()"
   ]
  },
  {
   "cell_type": "markdown",
   "id": "2c689352",
   "metadata": {},
   "source": [
    "## Selecting a Classifier "
   ]
  },
  {
   "cell_type": "markdown",
   "id": "cfdf58fd",
   "metadata": {},
   "source": [
    "#### Let's determine the best classification model to use for future classification. It can be used to classify recommended songs by Spotify or to classify already saved songs into one of the 6 clusters"
   ]
  },
  {
   "cell_type": "code",
   "execution_count": 23,
   "id": "b01d27dd",
   "metadata": {},
   "outputs": [],
   "source": [
    "df_classify=df_all[[\"acousticness\", \"danceability\", \"liveness\",\"energy\", \"instrumentalness\", \"loudness\", \"speechiness\",\"valence\",\"cluster\"]]"
   ]
  },
  {
   "cell_type": "code",
   "execution_count": 24,
   "id": "b4db898a",
   "metadata": {},
   "outputs": [],
   "source": [
    "X=df_classify.iloc[:,:-1].values\n",
    "Y=df_classify.iloc[:,-1].values"
   ]
  },
  {
   "cell_type": "markdown",
   "id": "7d155562",
   "metadata": {},
   "source": [
    "### Splitting the dataset into the Training set and Test set"
   ]
  },
  {
   "cell_type": "code",
   "execution_count": 25,
   "id": "06242929",
   "metadata": {},
   "outputs": [],
   "source": [
    "from sklearn.model_selection import train_test_split\n",
    "X_train, X_test, y_train, y_test=train_test_split(X,Y,test_size=0.2)"
   ]
  },
  {
   "cell_type": "code",
   "execution_count": 26,
   "id": "ea744e03",
   "metadata": {},
   "outputs": [
    {
     "name": "stdout",
     "output_type": "stream",
     "text": [
      "10:0.923886065476894\n",
      "11:0.9261316629240043\n",
      "12:0.9231769294409644\n",
      "13:0.9275499349958634\n",
      "14:0.9245952015128236\n",
      "15:0.9280226923531497\n",
      "16:0.9281408816924713\n",
      "17:0.9288500177284009\n",
      "18:0.9292045857463657\n",
      "19:0.9293227750856873\n",
      "20:0.9279045030138282\n",
      "21:0.9284954497104361\n",
      "22:0.9274317456565417\n",
      "23:0.9271953669778986\n",
      "24:0.9248315801914667\n",
      "25:0.926486230941969\n",
      "26:0.9248315801914667\n",
      "27:0.9253043375487531\n",
      "28:0.9228223614229997\n",
      "29:0.9236496867982508\n"
     ]
    }
   ],
   "source": [
    "from sklearn.neighbors import KNeighborsClassifier\n",
    "from sklearn.metrics import confusion_matrix, accuracy_score\n",
    "acc=[]\n",
    "for i in range(10,30):\n",
    "  classifier = KNeighborsClassifier(n_neighbors = i, metric = 'minkowski', p = 2)\n",
    "  classifier.fit(X_train, y_train)\n",
    "  y_pred = classifier.predict(X_test)\n",
    "  acc.append(accuracy_score(y_test, y_pred))\n",
    "  print(f'{i}:{acc[-1]}')"
   ]
  },
  {
   "cell_type": "code",
   "execution_count": 27,
   "id": "89c65de9",
   "metadata": {},
   "outputs": [
    {
     "name": "stdout",
     "output_type": "stream",
     "text": [
      "90:0.9776622148682189\n",
      "91:0.9777804042075405\n",
      "92:0.9777804042075405\n",
      "93:0.977898593546862\n",
      "94:0.9777804042075405\n",
      "95:0.9781349722255053\n",
      "96:0.9780167828861837\n",
      "97:0.9781349722255053\n",
      "98:0.9780167828861837\n",
      "99:0.9775440255288973\n"
     ]
    }
   ],
   "source": [
    "from sklearn.ensemble import RandomForestClassifier\n",
    "acc=[]\n",
    "for i in range(90,100):\n",
    "  classifier = RandomForestClassifier(n_estimators = i, criterion = 'entropy', random_state = 0)\n",
    "  classifier.fit(X_train, y_train)\n",
    "  y_pred = classifier.predict(X_test)\n",
    "  acc.append(accuracy_score(y_test, y_pred))\n",
    "  print(f'{i}:{acc[-1]}')"
   ]
  },
  {
   "cell_type": "code",
   "execution_count": 28,
   "id": "a82e2f3c",
   "metadata": {},
   "outputs": [
    {
     "name": "stdout",
     "output_type": "stream",
     "text": [
      "99:0.9326320765866919\n"
     ]
    }
   ],
   "source": [
    "from sklearn.naive_bayes import GaussianNB\n",
    "acc=[]\n",
    "\n",
    "classifier = GaussianNB()\n",
    "classifier.fit(X_train, y_train)\n",
    "y_pred = classifier.predict(X_test)\n",
    "acc.append(accuracy_score(y_test, y_pred))\n",
    "print(f'{i}:{acc[-1]}')"
   ]
  },
  {
   "cell_type": "code",
   "execution_count": 29,
   "id": "1881ae04",
   "metadata": {},
   "outputs": [
    {
     "name": "stdout",
     "output_type": "stream",
     "text": [
      "linear:0.9885356340858055\n",
      "poly:0.8774376551235079\n",
      "rbf:0.9544971043611866\n",
      "sigmoid:0.2695898829925541\n"
     ]
    }
   ],
   "source": [
    "from sklearn.svm import SVC\n",
    "acc=[]\n",
    "for i in ['linear', 'poly', 'rbf', 'sigmoid']:\n",
    "  classifier = SVC(kernel = i, random_state = 0)\n",
    "  classifier.fit(X_train, y_train)\n",
    "  y_pred = classifier.predict(X_test)\n",
    "  acc.append(accuracy_score(y_test, y_pred))\n",
    "  print(f'{i}:{acc[-1]}')"
   ]
  },
  {
   "cell_type": "markdown",
   "id": "b24f975f",
   "metadata": {},
   "source": [
    "### After trying different classsification algorithms like K-Neighbours, RandomForests, NaiveBayes and SupportVectors, we see that the highest accuracy is acheived by the SVC algorithm with the kernal set to linear."
   ]
  },
  {
   "cell_type": "code",
   "execution_count": 30,
   "id": "edcdc251",
   "metadata": {},
   "outputs": [
    {
     "name": "stdout",
     "output_type": "stream",
     "text": [
      "[[1666    0    6    5    5    3]\n",
      " [   0 1942    1    0    0    0]\n",
      " [   8    1 1949    2    4    1]\n",
      " [   2    4    1  582    9    0]\n",
      " [   8    4   11    0 1435    0]\n",
      " [   1   18    3    0    0  790]]\n"
     ]
    }
   ],
   "source": [
    "classifier = SVC(kernel ='linear', random_state = 0)\n",
    "classifier.fit(X_train, y_train)\n",
    "y_pred = classifier.predict(X_test)\n",
    "cm = confusion_matrix(y_test, y_pred)\n",
    "print(cm)"
   ]
  },
  {
   "cell_type": "code",
   "execution_count": 31,
   "id": "11a2faa4",
   "metadata": {},
   "outputs": [
    {
     "name": "stdout",
     "output_type": "stream",
     "text": [
      "Requirement already satisfied: seaborn in c:\\users\\siddanth shetty\\appdata\\local\\programs\\python\\python39\\lib\\site-packages (0.11.2)\n",
      "Requirement already satisfied: matplotlib>=2.2 in c:\\users\\siddanth shetty\\appdata\\local\\programs\\python\\python39\\lib\\site-packages (from seaborn) (3.5.1)\n",
      "Requirement already satisfied: numpy>=1.15 in c:\\users\\siddanth shetty\\appdata\\local\\programs\\python\\python39\\lib\\site-packages (from seaborn) (1.22.1)\n",
      "Requirement already satisfied: scipy>=1.0 in c:\\users\\siddanth shetty\\appdata\\local\\programs\\python\\python39\\lib\\site-packages (from seaborn) (1.8.1)\n",
      "Requirement already satisfied: pandas>=0.23 in c:\\users\\siddanth shetty\\appdata\\local\\programs\\python\\python39\\lib\\site-packages (from seaborn) (1.4.2)\n",
      "Requirement already satisfied: kiwisolver>=1.0.1 in c:\\users\\siddanth shetty\\appdata\\local\\programs\\python\\python39\\lib\\site-packages (from matplotlib>=2.2->seaborn) (1.4.2)\n",
      "Requirement already satisfied: packaging>=20.0 in c:\\users\\siddanth shetty\\appdata\\local\\programs\\python\\python39\\lib\\site-packages (from matplotlib>=2.2->seaborn) (21.3)\n",
      "Requirement already satisfied: pillow>=6.2.0 in c:\\users\\siddanth shetty\\appdata\\local\\programs\\python\\python39\\lib\\site-packages (from matplotlib>=2.2->seaborn) (9.1.0)\n",
      "Requirement already satisfied: cycler>=0.10 in c:\\users\\siddanth shetty\\appdata\\local\\programs\\python\\python39\\lib\\site-packages (from matplotlib>=2.2->seaborn) (0.11.0)\n",
      "Requirement already satisfied: fonttools>=4.22.0 in c:\\users\\siddanth shetty\\appdata\\local\\programs\\python\\python39\\lib\\site-packages (from matplotlib>=2.2->seaborn) (4.33.2)\n",
      "Requirement already satisfied: python-dateutil>=2.7 in c:\\users\\siddanth shetty\\appdata\\local\\programs\\python\\python39\\lib\\site-packages (from matplotlib>=2.2->seaborn) (2.8.2)\n",
      "Requirement already satisfied: pyparsing>=2.2.1 in c:\\users\\siddanth shetty\\appdata\\local\\programs\\python\\python39\\lib\\site-packages (from matplotlib>=2.2->seaborn) (3.0.8)\n",
      "Requirement already satisfied: pytz>=2020.1 in c:\\users\\siddanth shetty\\appdata\\local\\programs\\python\\python39\\lib\\site-packages (from pandas>=0.23->seaborn) (2022.1)\n",
      "Requirement already satisfied: six>=1.5 in c:\\users\\siddanth shetty\\appdata\\local\\programs\\python\\python39\\lib\\site-packages (from python-dateutil>=2.7->matplotlib>=2.2->seaborn) (1.16.0)\n",
      "\n",
      "[notice] A new release of pip available: 22.1.2 -> 22.2.2\n",
      "[notice] To update, run: python.exe -m pip install --upgrade pip\n"
     ]
    }
   ],
   "source": [
    "!pip install seaborn \n",
    "import seaborn as sns"
   ]
  },
  {
   "cell_type": "code",
   "execution_count": 32,
   "id": "6b0e30c7",
   "metadata": {},
   "outputs": [
    {
     "data": {
      "image/png": "[encoded data removed]",
      "text/plain": [
       "<Figure size 720x504 with 2 Axes>"
      ]
     },
     "metadata": {
      "needs_background": "light"
     },
     "output_type": "display_data"
    }
   ],
   "source": [
    "df_cm = pd.DataFrame(cm, range(6), range(6))\n",
    "plt.figure(figsize=(10,7))\n",
    "sns.set(font_scale=1.4) # for label size\n",
    "sns.heatmap(df_cm, annot=True, annot_kws={\"size\": 16}) # font size\n",
    "plt.show()"
   ]
  },
  {
   "cell_type": "markdown",
   "id": "9afa2075",
   "metadata": {},
   "source": [
    "### Cluster's Description"
   ]
  },
  {
   "cell_type": "code",
   "execution_count": 33,
   "id": "c26c8fa8",
   "metadata": {},
   "outputs": [
    {
     "data": {
      "text/html": [
       "<div>\n",
       "<style scoped>\n",
       "    .dataframe tbody tr th:only-of-type {\n",
       "        vertical-align: middle;\n",
       "    }\n",
       "\n",
       "    .dataframe tbody tr th {\n",
       "        vertical-align: top;\n",
       "    }\n",
       "\n",
       "    .dataframe thead th {\n",
       "        text-align: right;\n",
       "    }\n",
       "</style>\n",
       "<table border=\"1\" class=\"dataframe\">\n",
       "  <thead>\n",
       "    <tr style=\"text-align: right;\">\n",
       "      <th></th>\n",
       "      <th>acousticness</th>\n",
       "      <th>danceability</th>\n",
       "      <th>liveness</th>\n",
       "      <th>energy</th>\n",
       "      <th>instrumentalness</th>\n",
       "      <th>loudness</th>\n",
       "      <th>speechiness</th>\n",
       "      <th>valence</th>\n",
       "      <th>cluster</th>\n",
       "    </tr>\n",
       "  </thead>\n",
       "  <tbody>\n",
       "    <tr>\n",
       "      <th>mean</th>\n",
       "      <td>0.108638</td>\n",
       "      <td>0.732969</td>\n",
       "      <td>0.206921</td>\n",
       "      <td>0.748098</td>\n",
       "      <td>0.017344</td>\n",
       "      <td>-5.901918</td>\n",
       "      <td>0.205228</td>\n",
       "      <td>0.666600</td>\n",
       "      <td>0.0</td>\n",
       "    </tr>\n",
       "    <tr>\n",
       "      <th>mean</th>\n",
       "      <td>0.035047</td>\n",
       "      <td>0.597417</td>\n",
       "      <td>0.219435</td>\n",
       "      <td>0.830581</td>\n",
       "      <td>0.804388</td>\n",
       "      <td>-7.345283</td>\n",
       "      <td>0.068382</td>\n",
       "      <td>0.162038</td>\n",
       "      <td>1.0</td>\n",
       "    </tr>\n",
       "    <tr>\n",
       "      <th>mean</th>\n",
       "      <td>0.034803</td>\n",
       "      <td>0.508362</td>\n",
       "      <td>0.286616</td>\n",
       "      <td>0.881803</td>\n",
       "      <td>0.061815</td>\n",
       "      <td>-4.289305</td>\n",
       "      <td>0.135391</td>\n",
       "      <td>0.255966</td>\n",
       "      <td>2.0</td>\n",
       "    </tr>\n",
       "    <tr>\n",
       "      <th>mean</th>\n",
       "      <td>0.590669</td>\n",
       "      <td>0.641116</td>\n",
       "      <td>0.160491</td>\n",
       "      <td>0.489000</td>\n",
       "      <td>0.033166</td>\n",
       "      <td>-9.129352</td>\n",
       "      <td>0.170696</td>\n",
       "      <td>0.369531</td>\n",
       "      <td>3.0</td>\n",
       "    </tr>\n",
       "    <tr>\n",
       "      <th>mean</th>\n",
       "      <td>0.096017</td>\n",
       "      <td>0.730238</td>\n",
       "      <td>0.153423</td>\n",
       "      <td>0.575148</td>\n",
       "      <td>0.021391</td>\n",
       "      <td>-7.701833</td>\n",
       "      <td>0.172466</td>\n",
       "      <td>0.279580</td>\n",
       "      <td>4.0</td>\n",
       "    </tr>\n",
       "    <tr>\n",
       "      <th>mean</th>\n",
       "      <td>0.020007</td>\n",
       "      <td>0.706487</td>\n",
       "      <td>0.184817</td>\n",
       "      <td>0.868119</td>\n",
       "      <td>0.761331</td>\n",
       "      <td>-6.704917</td>\n",
       "      <td>0.074238</td>\n",
       "      <td>0.581845</td>\n",
       "      <td>5.0</td>\n",
       "    </tr>\n",
       "  </tbody>\n",
       "</table>\n",
       "</div>"
      ],
      "text/plain": [
       "      acousticness  danceability  liveness    energy  instrumentalness  \\\n",
       "mean      0.108638      0.732969  0.206921  0.748098          0.017344   \n",
       "mean      0.035047      0.597417  0.219435  0.830581          0.804388   \n",
       "mean      0.034803      0.508362  0.286616  0.881803          0.061815   \n",
       "mean      0.590669      0.641116  0.160491  0.489000          0.033166   \n",
       "mean      0.096017      0.730238  0.153423  0.575148          0.021391   \n",
       "mean      0.020007      0.706487  0.184817  0.868119          0.761331   \n",
       "\n",
       "      loudness  speechiness   valence  cluster  \n",
       "mean -5.901918     0.205228  0.666600      0.0  \n",
       "mean -7.345283     0.068382  0.162038      1.0  \n",
       "mean -4.289305     0.135391  0.255966      2.0  \n",
       "mean -9.129352     0.170696  0.369531      3.0  \n",
       "mean -7.701833     0.172466  0.279580      4.0  \n",
       "mean -6.704917     0.074238  0.581845      5.0  "
      ]
     },
     "execution_count": 33,
     "metadata": {},
     "output_type": "execute_result"
    }
   ],
   "source": [
    "df=df_all[[\"id\",\"acousticness\", \"danceability\", \"liveness\",\"energy\", \"instrumentalness\", \"loudness\", \"speechiness\",\"valence\",\"cluster\"]]\n",
    "cluster_info=[]\n",
    "for i in range(6):\n",
    "    cluster_info.append(df[df['cluster']==i].describe().iloc[1,:])\n",
    "pd.DataFrame(cluster_info)"
   ]
  },
  {
   "cell_type": "markdown",
   "id": "030879d6",
   "metadata": {},
   "source": [
    "#### Cluster 0 has high values of danceability and low values of speechiness and valence and could correspond to songs one might listen to when feeling fear and wants to divert their mind with high tempo songs.\n",
    "#### Cluster 1 has a low value of valence which correponds to negative emotions in the song and low values of liveliness and danceability as well. Thus it represents songs one might listen to when in a sad mood.\n",
    "#### Cluster 2 has high values of energy and liveness but low value of valence thus it can correposnd to songs one might listen to when in an angry mood.\n"
   ]
  },
  {
   "cell_type": "markdown",
   "id": "723a9e41",
   "metadata": {},
   "source": [
    "#### Cluster 3 has high danceability, liveliness and energy values. It also has a high valence value which depicts a positive uplifiting song. This cluster corresponds to songs one can listen to when happy.\n",
    "#### Cluster 4 has unusually high loudness and median values for other features. It can include songs one might want to listen to when they wish to be surprised or dont know what to listen to. \n",
    "#### Cluster 5 has high values of instrumentalness and low values of speechiness and danceability, this can correpond to neutral emotions."
   ]
  },
  {
   "cell_type": "markdown",
   "id": "5d82e888",
   "metadata": {},
   "source": [
    "## Predicting saved songs on spotify "
   ]
  },
  {
   "cell_type": "code",
   "execution_count": 34,
   "id": "3905d25c",
   "metadata": {},
   "outputs": [],
   "source": [
    "import spotipy\n",
    "from spotipy.oauth2 import SpotifyClientCredentials\n",
    "import spotipy.util as util"
   ]
  },
  {
   "cell_type": "code",
   "execution_count": 35,
   "id": "59a9633b",
   "metadata": {},
   "outputs": [],
   "source": [
    "cid ='69468bff73c742d0bf85b9bc629452fc' # Client ID\n",
    "secret = '20e952ce8e6147baba32080968050fc3' # Client Secret\n",
    "username = 'qtq6p67cm65kvdycpv69ex5rn'"
   ]
  },
  {
   "cell_type": "code",
   "execution_count": 36,
   "id": "f0df140b",
   "metadata": {
    "scrolled": true
   },
   "outputs": [],
   "source": [
    "scope = 'user-library-read playlist-modify-public playlist-read-private user-top-read playlist-modify-private user-read-currently-playing'\n",
    "redirect_uri='https://spotipy.readthedocs.io/en/2.9.0/'\n",
    "client_credentials_manager = spotipy.oauth2.SpotifyOAuth(scope=scope, username=username,client_id=cid, client_secret=secret, redirect_uri=redirect_uri, cache_path='./tokens.txt') \n",
    "#SpotifyClientCredentials(client_id=cid, client_secret=secret)\n",
    "sp = spotipy.Spotify(client_credentials_manager=client_credentials_manager)"
   ]
  },
  {
   "cell_type": "code",
   "execution_count": 37,
   "id": "ae5dace7",
   "metadata": {},
   "outputs": [],
   "source": [
    "offset = 0\n",
    "songs = []\n",
    "names = []\n",
    "ids = []\n",
    "while True:\n",
    "    content = sp.current_user_saved_tracks(limit=50, offset=offset)\n",
    "    songs += content['items']\n",
    "    if content['next'] is not None:\n",
    "        offset += 100\n",
    "    else:\n",
    "        break\n",
    "for i in songs:\n",
    "    names.append(i['track']['name'])\n",
    "    ids.append(i['track']['id'])\n",
    "index=0\n",
    "audio_features=[]\n",
    "while index < len(ids):\n",
    "    audio_features += sp.audio_features(ids[index:index + 50])\n",
    "    index += 50\n",
    "features_list = []\n",
    "for features in audio_features:\n",
    "    features_list.append([features['acousticness'], features['danceability'],\n",
    "                          features['liveness'],features['energy'],\n",
    "                          features['instrumentalness'], features['loudness'],\n",
    "                          features['speechiness'], features['valence']])\n",
    "\n",
    "mydf = pd.DataFrame(features_list, columns=[\"acousticness\", \"danceability\", \"liveness\",\"energy\", \"instrumentalness\", \"loudness\", \"speechiness\", \"valence\"],index=ids)\n"
   ]
  },
  {
   "cell_type": "code",
   "execution_count": 38,
   "id": "bae68afb",
   "metadata": {},
   "outputs": [
    {
     "data": {
      "text/html": [
       "<div>\n",
       "<style scoped>\n",
       "    .dataframe tbody tr th:only-of-type {\n",
       "        vertical-align: middle;\n",
       "    }\n",
       "\n",
       "    .dataframe tbody tr th {\n",
       "        vertical-align: top;\n",
       "    }\n",
       "\n",
       "    .dataframe thead th {\n",
       "        text-align: right;\n",
       "    }\n",
       "</style>\n",
       "<table border=\"1\" class=\"dataframe\">\n",
       "  <thead>\n",
       "    <tr style=\"text-align: right;\">\n",
       "      <th></th>\n",
       "      <th>acousticness</th>\n",
       "      <th>danceability</th>\n",
       "      <th>liveness</th>\n",
       "      <th>energy</th>\n",
       "      <th>instrumentalness</th>\n",
       "      <th>loudness</th>\n",
       "      <th>speechiness</th>\n",
       "      <th>valence</th>\n",
       "    </tr>\n",
       "  </thead>\n",
       "  <tbody>\n",
       "    <tr>\n",
       "      <th>303ccTay2FiDTZ9fZ2AdBt</th>\n",
       "      <td>0.00105</td>\n",
       "      <td>0.735</td>\n",
       "      <td>0.3820</td>\n",
       "      <td>0.720</td>\n",
       "      <td>0.150000</td>\n",
       "      <td>-7.040</td>\n",
       "      <td>0.3360</td>\n",
       "      <td>0.364</td>\n",
       "    </tr>\n",
       "    <tr>\n",
       "      <th>0E0DRHf5PfMeor0ZCwB3oT</th>\n",
       "      <td>0.59000</td>\n",
       "      <td>0.777</td>\n",
       "      <td>0.0669</td>\n",
       "      <td>0.595</td>\n",
       "      <td>0.001390</td>\n",
       "      <td>-6.790</td>\n",
       "      <td>0.0375</td>\n",
       "      <td>0.546</td>\n",
       "    </tr>\n",
       "    <tr>\n",
       "      <th>4HbeGjbt7u3pvwDk1vN7P0</th>\n",
       "      <td>0.94000</td>\n",
       "      <td>0.365</td>\n",
       "      <td>0.1090</td>\n",
       "      <td>0.273</td>\n",
       "      <td>0.431000</td>\n",
       "      <td>-16.526</td>\n",
       "      <td>0.0380</td>\n",
       "      <td>0.238</td>\n",
       "    </tr>\n",
       "    <tr>\n",
       "      <th>1Ym6aMuT5bliaZMC67AmPp</th>\n",
       "      <td>0.04800</td>\n",
       "      <td>0.449</td>\n",
       "      <td>0.3840</td>\n",
       "      <td>0.534</td>\n",
       "      <td>0.001100</td>\n",
       "      <td>-9.493</td>\n",
       "      <td>0.0494</td>\n",
       "      <td>0.342</td>\n",
       "    </tr>\n",
       "    <tr>\n",
       "      <th>5CM4UuQ9Gnd6K2YyKGPMoK</th>\n",
       "      <td>0.62600</td>\n",
       "      <td>0.686</td>\n",
       "      <td>0.3830</td>\n",
       "      <td>0.507</td>\n",
       "      <td>0.000075</td>\n",
       "      <td>-7.097</td>\n",
       "      <td>0.0357</td>\n",
       "      <td>0.690</td>\n",
       "    </tr>\n",
       "  </tbody>\n",
       "</table>\n",
       "</div>"
      ],
      "text/plain": [
       "                        acousticness  danceability  liveness  energy  \\\n",
       "303ccTay2FiDTZ9fZ2AdBt       0.00105         0.735    0.3820   0.720   \n",
       "0E0DRHf5PfMeor0ZCwB3oT       0.59000         0.777    0.0669   0.595   \n",
       "4HbeGjbt7u3pvwDk1vN7P0       0.94000         0.365    0.1090   0.273   \n",
       "1Ym6aMuT5bliaZMC67AmPp       0.04800         0.449    0.3840   0.534   \n",
       "5CM4UuQ9Gnd6K2YyKGPMoK       0.62600         0.686    0.3830   0.507   \n",
       "\n",
       "                        instrumentalness  loudness  speechiness  valence  \n",
       "303ccTay2FiDTZ9fZ2AdBt          0.150000    -7.040       0.3360    0.364  \n",
       "0E0DRHf5PfMeor0ZCwB3oT          0.001390    -6.790       0.0375    0.546  \n",
       "4HbeGjbt7u3pvwDk1vN7P0          0.431000   -16.526       0.0380    0.238  \n",
       "1Ym6aMuT5bliaZMC67AmPp          0.001100    -9.493       0.0494    0.342  \n",
       "5CM4UuQ9Gnd6K2YyKGPMoK          0.000075    -7.097       0.0357    0.690  "
      ]
     },
     "execution_count": 38,
     "metadata": {},
     "output_type": "execute_result"
    }
   ],
   "source": [
    "mydf.head()"
   ]
  },
  {
   "cell_type": "markdown",
   "id": "39622a66",
   "metadata": {},
   "source": [
    "### Data Preprocessing"
   ]
  },
  {
   "cell_type": "code",
   "execution_count": 39,
   "id": "2e273903",
   "metadata": {},
   "outputs": [],
   "source": [
    "loudness=mydf['loudness'].values\n",
    "loudness_scaled=scaler.fit_transform(loudness.reshape(-1,1))\n",
    "mydf['loudness']=loudness_scaled\n",
    "features=mydf.values"
   ]
  },
  {
   "cell_type": "markdown",
   "id": "90811198",
   "metadata": {},
   "source": [
    "### Classification"
   ]
  },
  {
   "cell_type": "code",
   "execution_count": 40,
   "id": "624e60e4",
   "metadata": {},
   "outputs": [
    {
     "data": {
      "text/html": [
       "<div>\n",
       "<style scoped>\n",
       "    .dataframe tbody tr th:only-of-type {\n",
       "        vertical-align: middle;\n",
       "    }\n",
       "\n",
       "    .dataframe tbody tr th {\n",
       "        vertical-align: top;\n",
       "    }\n",
       "\n",
       "    .dataframe thead th {\n",
       "        text-align: right;\n",
       "    }\n",
       "</style>\n",
       "<table border=\"1\" class=\"dataframe\">\n",
       "  <thead>\n",
       "    <tr style=\"text-align: right;\">\n",
       "      <th></th>\n",
       "      <th>acousticness</th>\n",
       "      <th>danceability</th>\n",
       "      <th>liveness</th>\n",
       "      <th>energy</th>\n",
       "      <th>instrumentalness</th>\n",
       "      <th>loudness</th>\n",
       "      <th>speechiness</th>\n",
       "      <th>valence</th>\n",
       "      <th>cluster</th>\n",
       "    </tr>\n",
       "  </thead>\n",
       "  <tbody>\n",
       "    <tr>\n",
       "      <th>303ccTay2FiDTZ9fZ2AdBt</th>\n",
       "      <td>0.00105</td>\n",
       "      <td>0.735</td>\n",
       "      <td>0.3820</td>\n",
       "      <td>0.720</td>\n",
       "      <td>0.150000</td>\n",
       "      <td>0.749325</td>\n",
       "      <td>0.3360</td>\n",
       "      <td>0.364</td>\n",
       "      <td>2</td>\n",
       "    </tr>\n",
       "    <tr>\n",
       "      <th>0E0DRHf5PfMeor0ZCwB3oT</th>\n",
       "      <td>0.59000</td>\n",
       "      <td>0.777</td>\n",
       "      <td>0.0669</td>\n",
       "      <td>0.595</td>\n",
       "      <td>0.001390</td>\n",
       "      <td>0.760038</td>\n",
       "      <td>0.0375</td>\n",
       "      <td>0.546</td>\n",
       "      <td>3</td>\n",
       "    </tr>\n",
       "    <tr>\n",
       "      <th>4HbeGjbt7u3pvwDk1vN7P0</th>\n",
       "      <td>0.94000</td>\n",
       "      <td>0.365</td>\n",
       "      <td>0.1090</td>\n",
       "      <td>0.273</td>\n",
       "      <td>0.431000</td>\n",
       "      <td>0.342846</td>\n",
       "      <td>0.0380</td>\n",
       "      <td>0.238</td>\n",
       "      <td>3</td>\n",
       "    </tr>\n",
       "    <tr>\n",
       "      <th>1Ym6aMuT5bliaZMC67AmPp</th>\n",
       "      <td>0.04800</td>\n",
       "      <td>0.449</td>\n",
       "      <td>0.3840</td>\n",
       "      <td>0.534</td>\n",
       "      <td>0.001100</td>\n",
       "      <td>0.644213</td>\n",
       "      <td>0.0494</td>\n",
       "      <td>0.342</td>\n",
       "      <td>2</td>\n",
       "    </tr>\n",
       "    <tr>\n",
       "      <th>5CM4UuQ9Gnd6K2YyKGPMoK</th>\n",
       "      <td>0.62600</td>\n",
       "      <td>0.686</td>\n",
       "      <td>0.3830</td>\n",
       "      <td>0.507</td>\n",
       "      <td>0.000075</td>\n",
       "      <td>0.746883</td>\n",
       "      <td>0.0357</td>\n",
       "      <td>0.690</td>\n",
       "      <td>3</td>\n",
       "    </tr>\n",
       "  </tbody>\n",
       "</table>\n",
       "</div>"
      ],
      "text/plain": [
       "                        acousticness  danceability  liveness  energy  \\\n",
       "303ccTay2FiDTZ9fZ2AdBt       0.00105         0.735    0.3820   0.720   \n",
       "0E0DRHf5PfMeor0ZCwB3oT       0.59000         0.777    0.0669   0.595   \n",
       "4HbeGjbt7u3pvwDk1vN7P0       0.94000         0.365    0.1090   0.273   \n",
       "1Ym6aMuT5bliaZMC67AmPp       0.04800         0.449    0.3840   0.534   \n",
       "5CM4UuQ9Gnd6K2YyKGPMoK       0.62600         0.686    0.3830   0.507   \n",
       "\n",
       "                        instrumentalness  loudness  speechiness  valence  \\\n",
       "303ccTay2FiDTZ9fZ2AdBt          0.150000  0.749325       0.3360    0.364   \n",
       "0E0DRHf5PfMeor0ZCwB3oT          0.001390  0.760038       0.0375    0.546   \n",
       "4HbeGjbt7u3pvwDk1vN7P0          0.431000  0.342846       0.0380    0.238   \n",
       "1Ym6aMuT5bliaZMC67AmPp          0.001100  0.644213       0.0494    0.342   \n",
       "5CM4UuQ9Gnd6K2YyKGPMoK          0.000075  0.746883       0.0357    0.690   \n",
       "\n",
       "                        cluster  \n",
       "303ccTay2FiDTZ9fZ2AdBt        2  \n",
       "0E0DRHf5PfMeor0ZCwB3oT        3  \n",
       "4HbeGjbt7u3pvwDk1vN7P0        3  \n",
       "1Ym6aMuT5bliaZMC67AmPp        2  \n",
       "5CM4UuQ9Gnd6K2YyKGPMoK        3  "
      ]
     },
     "execution_count": 40,
     "metadata": {},
     "output_type": "execute_result"
    }
   ],
   "source": [
    "predictions=classifier.predict(features)\n",
    "mydf['cluster']=predictions\n",
    "mydf.head()"
   ]
  },
  {
   "cell_type": "markdown",
   "id": "9e28e526",
   "metadata": {},
   "source": [
    "## Sorting saved songs into playlists for recommendations\n"
   ]
  },
  {
   "cell_type": "code",
   "execution_count": 41,
   "id": "b7b654ec",
   "metadata": {},
   "outputs": [],
   "source": [
    "emotions = ['Angry', 'Fear', 'Happy', 'Sad', 'Surprise', 'Neutral']"
   ]
  },
  {
   "cell_type": "code",
   "execution_count": 42,
   "id": "19d05f20",
   "metadata": {},
   "outputs": [],
   "source": [
    "clustered_songs=list(zip(mydf.index,mydf.iloc[:,-1]))"
   ]
  },
  {
   "cell_type": "code",
   "execution_count": 43,
   "id": "df59fd30",
   "metadata": {},
   "outputs": [],
   "source": [
    "sorted_songs=[[],[],[],[],[],[]]\n",
    "for i in range(len(clustered_songs)):\n",
    "    sorted_songs[clustered_songs[i][1]].append(clustered_songs[i][0])"
   ]
  },
  {
   "cell_type": "code",
   "execution_count": 44,
   "id": "fa34ad64",
   "metadata": {},
   "outputs": [],
   "source": [
    "playlists=[]\n",
    "for i in range(6):\n",
    "    playlist_created=sp.user_playlist_create(username, name=\"Cluster \"+str(i), public=False,description='')\n",
    "    #create playlists for a corresponding cluster\n",
    "    sp.user_playlist_add_tracks(username,playlist_created['id'],sorted_songs[i][:100]) \n",
    "    #add new songs\n",
    "    playlists.append(playlist_created)"
   ]
  },
  {
   "cell_type": "code",
   "execution_count": 45,
   "id": "06a88a6f",
   "metadata": {},
   "outputs": [
    {
     "data": {
      "text/plain": [
       "'6yvDfcDh1my9pIXWGYLq2k'"
      ]
     },
     "execution_count": 45,
     "metadata": {},
     "output_type": "execute_result"
    }
   ],
   "source": [
    "playlists[0]['id']"
   ]
  },
  {
   "cell_type": "code",
   "execution_count": 46,
   "id": "f78a4639",
   "metadata": {},
   "outputs": [],
   "source": [
    "len_clusters=[]\n",
    "for i in range(5):\n",
    "    len_clusters.append(len(mydf[mydf['cluster']==i].values))"
   ]
  },
  {
   "cell_type": "markdown",
   "id": "f318f3e8",
   "metadata": {},
   "source": [
    "## Emotion Recogniser"
   ]
  },
  {
   "cell_type": "code",
   "execution_count": 47,
   "id": "7a2d6904",
   "metadata": {},
   "outputs": [
    {
     "name": "stdout",
     "output_type": "stream",
     "text": [
      "Requirement already satisfied: FER in c:\\users\\siddanth shetty\\appdata\\local\\programs\\python\\python39\\lib\\site-packages (22.4.0)\n",
      "Requirement already satisfied: tqdm in c:\\users\\siddanth shetty\\appdata\\local\\programs\\python\\python39\\lib\\site-packages (from FER) (4.64.0)\n",
      "Requirement already satisfied: matplotlib in c:\\users\\siddanth shetty\\appdata\\local\\programs\\python\\python39\\lib\\site-packages (from FER) (3.5.1)\n",
      "Requirement already satisfied: keras>=2.0.0 in c:\\users\\siddanth shetty\\appdata\\local\\programs\\python\\python39\\lib\\site-packages (from FER) (2.9.0)\n",
      "Requirement already satisfied: mtcnn>=0.1.1 in c:\\users\\siddanth shetty\\appdata\\local\\programs\\python\\python39\\lib\\site-packages (from FER) (0.1.1)\n",
      "Requirement already satisfied: requests in c:\\users\\siddanth shetty\\appdata\\local\\programs\\python\\python39\\lib\\site-packages (from FER) (2.28.1)\n",
      "Requirement already satisfied: opencv-contrib-python in c:\\users\\siddanth shetty\\appdata\\local\\programs\\python\\python39\\lib\\site-packages (from FER) (4.6.0.66)\n",
      "Requirement already satisfied: opencv-python>=4.1.0 in c:\\users\\siddanth shetty\\appdata\\local\\programs\\python\\python39\\lib\\site-packages (from mtcnn>=0.1.1->FER) (4.5.5.62)\n",
      "Requirement already satisfied: kiwisolver>=1.0.1 in c:\\users\\siddanth shetty\\appdata\\local\\programs\\python\\python39\\lib\\site-packages (from matplotlib->FER) (1.4.2)\n",
      "Requirement already satisfied: fonttools>=4.22.0 in c:\\users\\siddanth shetty\\appdata\\local\\programs\\python\\python39\\lib\\site-packages (from matplotlib->FER) (4.33.2)\n",
      "Requirement already satisfied: cycler>=0.10 in c:\\users\\siddanth shetty\\appdata\\local\\programs\\python\\python39\\lib\\site-packages (from matplotlib->FER) (0.11.0)\n",
      "Requirement already satisfied: pyparsing>=2.2.1 in c:\\users\\siddanth shetty\\appdata\\local\\programs\\python\\python39\\lib\\site-packages (from matplotlib->FER) (3.0.8)\n",
      "Requirement already satisfied: numpy>=1.17 in c:\\users\\siddanth shetty\\appdata\\local\\programs\\python\\python39\\lib\\site-packages (from matplotlib->FER) (1.22.1)\n",
      "Requirement already satisfied: packaging>=20.0 in c:\\users\\siddanth shetty\\appdata\\local\\programs\\python\\python39\\lib\\site-packages (from matplotlib->FER) (21.3)\n",
      "Requirement already satisfied: pillow>=6.2.0 in c:\\users\\siddanth shetty\\appdata\\local\\programs\\python\\python39\\lib\\site-packages (from matplotlib->FER) (9.1.0)\n",
      "Requirement already satisfied: python-dateutil>=2.7 in c:\\users\\siddanth shetty\\appdata\\local\\programs\\python\\python39\\lib\\site-packages (from matplotlib->FER) (2.8.2)\n",
      "Requirement already satisfied: certifi>=2017.4.17 in c:\\users\\siddanth shetty\\appdata\\local\\programs\\python\\python39\\lib\\site-packages (from requests->FER) (2022.6.15)\n",
      "Requirement already satisfied: charset-normalizer<3,>=2 in c:\\users\\siddanth shetty\\appdata\\local\\programs\\python\\python39\\lib\\site-packages (from requests->FER) (2.1.0)\n",
      "Requirement already satisfied: idna<4,>=2.5 in c:\\users\\siddanth shetty\\appdata\\local\\programs\\python\\python39\\lib\\site-packages (from requests->FER) (3.3)\n",
      "Requirement already satisfied: urllib3<1.27,>=1.21.1 in c:\\users\\siddanth shetty\\appdata\\local\\programs\\python\\python39\\lib\\site-packages (from requests->FER) (1.26.9)\n",
      "Requirement already satisfied: colorama in c:\\users\\siddanth shetty\\appdata\\local\\programs\\python\\python39\\lib\\site-packages (from tqdm->FER) (0.4.4)\n",
      "Requirement already satisfied: six>=1.5 in c:\\users\\siddanth shetty\\appdata\\local\\programs\\python\\python39\\lib\\site-packages (from python-dateutil>=2.7->matplotlib->FER) (1.16.0)\n",
      "\n",
      "[notice] A new release of pip available: 22.1.2 -> 22.2.2\n",
      "[notice] To update, run: python.exe -m pip install --upgrade pip\n"
     ]
    }
   ],
   "source": [
    "!pip install FER\n",
    "from fer import Video\n",
    "from fer import FER\n",
    "import os\n",
    "import sys\n"
   ]
  },
  {
   "cell_type": "code",
   "execution_count": 91,
   "id": "1ce45a80",
   "metadata": {},
   "outputs": [],
   "source": [
    "location_videofile = \"happy-emotional.gif\"\n",
    "\n",
    "# But the Face detection detector\n",
    "face_detector = FER(mtcnn=True)\n",
    "# Input the video for processing\n",
    "input_video = Video(location_videofile)"
   ]
  },
  {
   "cell_type": "code",
   "execution_count": 92,
   "id": "6bfbe36e",
   "metadata": {},
   "outputs": [
    {
     "name": "stderr",
     "output_type": "stream",
     "text": [
      "INFO:fer:10.00 fps, 33 frames, 3.30 seconds\n",
      "INFO:fer:Making directories at output\n",
      "INFO:fer:Deleted pre-existing output\\happy-emotional_output.gif\n",
      "  0%|                                                                                       | 0/33 [00:00<?, ?frames/s]"
     ]
    },
    {
     "name": "stdout",
     "output_type": "stream",
     "text": [
      "1/1 [==============================] - 0s 69ms/step\n",
      "1/1 [==============================] - 0s 67ms/step\n",
      "1/1 [==============================] - 0s 17ms/step\n",
      "1/1 [==============================] - 0s 16ms/step\n",
      "1/1 [==============================] - 0s 15ms/step\n",
      "1/1 [==============================] - 0s 15ms/step\n",
      "1/1 [==============================] - 0s 15ms/step\n",
      "1/1 [==============================] - 0s 73ms/step\n",
      "1/1 [==============================] - 0s 87ms/step\n"
     ]
    },
    {
     "name": "stderr",
     "output_type": "stream",
     "text": [
      "\r",
      "  3%|██▍                                                                            | 1/33 [00:00<00:20,  1.57frames/s]"
     ]
    },
    {
     "name": "stdout",
     "output_type": "stream",
     "text": [
      "1/1 [==============================] - 0s 20ms/step\n",
      "1/1 [==============================] - 0s 18ms/step\n",
      "1/1 [==============================] - 0s 16ms/step\n",
      "1/1 [==============================] - 0s 17ms/step\n",
      "1/1 [==============================] - 0s 17ms/step\n",
      "1/1 [==============================] - 0s 15ms/step\n",
      "1/1 [==============================] - 0s 17ms/step\n",
      "1/1 [==============================] - 0s 18ms/step\n",
      "1/1 [==============================] - 0s 23ms/step\n"
     ]
    },
    {
     "name": "stderr",
     "output_type": "stream",
     "text": [
      "\r",
      "  6%|████▊                                                                          | 2/33 [00:01<00:15,  1.96frames/s]"
     ]
    },
    {
     "name": "stdout",
     "output_type": "stream",
     "text": [
      "1/1 [==============================] - 0s 18ms/step\n",
      "1/1 [==============================] - 0s 18ms/step\n",
      "1/1 [==============================] - 0s 18ms/step\n",
      "1/1 [==============================] - 0s 18ms/step\n",
      "1/1 [==============================] - 0s 20ms/step\n",
      "1/1 [==============================] - 0s 19ms/step\n",
      "1/1 [==============================] - 0s 19ms/step\n",
      "1/1 [==============================] - 0s 21ms/step\n",
      "1/1 [==============================] - 0s 20ms/step\n"
     ]
    },
    {
     "name": "stderr",
     "output_type": "stream",
     "text": [
      "\r",
      "  9%|███████▏                                                                       | 3/33 [00:01<00:14,  2.09frames/s]"
     ]
    },
    {
     "name": "stdout",
     "output_type": "stream",
     "text": [
      "1/1 [==============================] - 0s 21ms/step\n",
      "1/1 [==============================] - 0s 19ms/step\n",
      "1/1 [==============================] - 0s 25ms/step\n",
      "1/1 [==============================] - 0s 18ms/step\n",
      "1/1 [==============================] - 0s 16ms/step\n",
      "1/1 [==============================] - 0s 16ms/step\n",
      "1/1 [==============================] - 0s 17ms/step\n",
      "1/1 [==============================] - 0s 21ms/step\n",
      "1/1 [==============================] - 0s 21ms/step\n"
     ]
    },
    {
     "name": "stderr",
     "output_type": "stream",
     "text": [
      "\r",
      " 12%|█████████▌                                                                     | 4/33 [00:01<00:13,  2.14frames/s]"
     ]
    },
    {
     "name": "stdout",
     "output_type": "stream",
     "text": [
      "1/1 [==============================] - 0s 18ms/step\n",
      "1/1 [==============================] - 0s 19ms/step\n",
      "1/1 [==============================] - 0s 19ms/step\n",
      "1/1 [==============================] - 0s 18ms/step\n",
      "1/1 [==============================] - 0s 17ms/step\n",
      "1/1 [==============================] - 0s 16ms/step\n",
      "1/1 [==============================] - 0s 15ms/step\n",
      "1/1 [==============================] - 0s 19ms/step\n",
      "1/1 [==============================] - 0s 19ms/step\n"
     ]
    },
    {
     "name": "stderr",
     "output_type": "stream",
     "text": [
      "\r",
      " 15%|███████████▉                                                                   | 5/33 [00:02<00:12,  2.22frames/s]"
     ]
    },
    {
     "name": "stdout",
     "output_type": "stream",
     "text": [
      "1/1 [==============================] - 0s 18ms/step\n",
      "1/1 [==============================] - 0s 20ms/step\n",
      "1/1 [==============================] - 0s 16ms/step\n",
      "1/1 [==============================] - 0s 17ms/step\n",
      "1/1 [==============================] - 0s 15ms/step\n",
      "1/1 [==============================] - 0s 17ms/step\n",
      "1/1 [==============================] - 0s 16ms/step\n",
      "1/1 [==============================] - 0s 18ms/step\n",
      "1/1 [==============================] - 0s 19ms/step\n"
     ]
    },
    {
     "name": "stderr",
     "output_type": "stream",
     "text": [
      "\r",
      " 18%|██████████████▎                                                                | 6/33 [00:02<00:11,  2.27frames/s]"
     ]
    },
    {
     "name": "stdout",
     "output_type": "stream",
     "text": [
      "1/1 [==============================] - 0s 21ms/step\n",
      "1/1 [==============================] - 0s 18ms/step\n",
      "1/1 [==============================] - 0s 18ms/step\n",
      "1/1 [==============================] - 0s 17ms/step\n",
      "1/1 [==============================] - 0s 17ms/step\n",
      "1/1 [==============================] - 0s 15ms/step\n",
      "1/1 [==============================] - 0s 16ms/step\n",
      "1/1 [==============================] - 0s 16ms/step\n",
      "1/1 [==============================] - 0s 21ms/step\n"
     ]
    },
    {
     "name": "stderr",
     "output_type": "stream",
     "text": [
      "\r",
      " 21%|████████████████▊                                                              | 7/33 [00:03<00:11,  2.30frames/s]"
     ]
    },
    {
     "name": "stdout",
     "output_type": "stream",
     "text": [
      "1/1 [==============================] - 0s 19ms/step\n",
      "1/1 [==============================] - 0s 17ms/step\n",
      "1/1 [==============================] - 0s 17ms/step\n",
      "1/1 [==============================] - 0s 18ms/step\n",
      "1/1 [==============================] - 0s 17ms/step\n",
      "1/1 [==============================] - 0s 16ms/step\n",
      "1/1 [==============================] - 0s 18ms/step\n",
      "1/1 [==============================] - 0s 17ms/step\n",
      "1/1 [==============================] - 0s 21ms/step\n"
     ]
    },
    {
     "name": "stderr",
     "output_type": "stream",
     "text": [
      "\r",
      " 24%|███████████████████▏                                                           | 8/33 [00:03<00:10,  2.34frames/s]"
     ]
    },
    {
     "name": "stdout",
     "output_type": "stream",
     "text": [
      "1/1 [==============================] - 0s 20ms/step\n",
      "1/1 [==============================] - 0s 19ms/step\n",
      "1/1 [==============================] - 0s 18ms/step\n",
      "1/1 [==============================] - 0s 17ms/step\n",
      "1/1 [==============================] - 0s 19ms/step\n",
      "1/1 [==============================] - 0s 17ms/step\n",
      "1/1 [==============================] - 0s 16ms/step\n",
      "1/1 [==============================] - 0s 18ms/step\n",
      "1/1 [==============================] - 0s 21ms/step\n"
     ]
    },
    {
     "name": "stderr",
     "output_type": "stream",
     "text": [
      "\r",
      " 27%|█████████████████████▌                                                         | 9/33 [00:04<00:10,  2.34frames/s]"
     ]
    },
    {
     "name": "stdout",
     "output_type": "stream",
     "text": [
      "1/1 [==============================] - 0s 20ms/step\n",
      "1/1 [==============================] - 0s 19ms/step\n",
      "1/1 [==============================] - 0s 18ms/step\n",
      "1/1 [==============================] - 0s 17ms/step\n",
      "1/1 [==============================] - 0s 17ms/step\n",
      "1/1 [==============================] - 0s 16ms/step\n",
      "1/1 [==============================] - 0s 17ms/step\n",
      "1/1 [==============================] - 0s 19ms/step\n",
      "1/1 [==============================] - 0s 23ms/step\n"
     ]
    },
    {
     "name": "stderr",
     "output_type": "stream",
     "text": [
      "\r",
      " 30%|███████████████████████▋                                                      | 10/33 [00:04<00:09,  2.35frames/s]"
     ]
    },
    {
     "name": "stdout",
     "output_type": "stream",
     "text": [
      "1/1 [==============================] - 0s 19ms/step\n",
      "1/1 [==============================] - 0s 19ms/step\n",
      "1/1 [==============================] - 0s 17ms/step\n",
      "1/1 [==============================] - 0s 17ms/step\n",
      "1/1 [==============================] - 0s 16ms/step\n",
      "1/1 [==============================] - 0s 16ms/step\n",
      "1/1 [==============================] - 0s 15ms/step\n",
      "1/1 [==============================] - 0s 18ms/step\n",
      "1/1 [==============================] - 0s 20ms/step\n"
     ]
    },
    {
     "name": "stderr",
     "output_type": "stream",
     "text": [
      "\r",
      " 33%|██████████████████████████                                                    | 11/33 [00:04<00:09,  2.38frames/s]"
     ]
    },
    {
     "name": "stdout",
     "output_type": "stream",
     "text": [
      "1/1 [==============================] - 0s 20ms/step\n",
      "1/1 [==============================] - 0s 17ms/step\n",
      "1/1 [==============================] - 0s 16ms/step\n",
      "1/1 [==============================] - 0s 16ms/step\n",
      "1/1 [==============================] - 0s 17ms/step\n",
      "1/1 [==============================] - 0s 17ms/step\n",
      "1/1 [==============================] - 0s 17ms/step\n",
      "1/1 [==============================] - 0s 19ms/step\n",
      "1/1 [==============================] - 0s 19ms/step\n"
     ]
    },
    {
     "name": "stderr",
     "output_type": "stream",
     "text": [
      "\r",
      " 36%|████████████████████████████▎                                                 | 12/33 [00:05<00:08,  2.37frames/s]"
     ]
    },
    {
     "name": "stdout",
     "output_type": "stream",
     "text": [
      "1/1 [==============================] - 0s 21ms/step\n",
      "1/1 [==============================] - 0s 17ms/step\n",
      "1/1 [==============================] - 0s 17ms/step\n",
      "1/1 [==============================] - 0s 18ms/step\n",
      "1/1 [==============================] - 0s 17ms/step\n",
      "1/1 [==============================] - 0s 18ms/step\n",
      "1/1 [==============================] - 0s 16ms/step\n",
      "1/1 [==============================] - 0s 22ms/step\n",
      "1/1 [==============================] - 0s 21ms/step\n"
     ]
    },
    {
     "name": "stderr",
     "output_type": "stream",
     "text": [
      "\r",
      " 39%|██████████████████████████████▋                                               | 13/33 [00:05<00:08,  2.35frames/s]"
     ]
    },
    {
     "name": "stdout",
     "output_type": "stream",
     "text": [
      "1/1 [==============================] - 0s 17ms/step\n",
      "1/1 [==============================] - 0s 17ms/step\n",
      "1/1 [==============================] - 0s 18ms/step\n",
      "1/1 [==============================] - 0s 18ms/step\n",
      "1/1 [==============================] - 0s 17ms/step\n",
      "1/1 [==============================] - 0s 17ms/step\n",
      "1/1 [==============================] - 0s 15ms/step\n",
      "1/1 [==============================] - 0s 20ms/step\n",
      "1/1 [==============================] - 0s 24ms/step\n"
     ]
    },
    {
     "name": "stderr",
     "output_type": "stream",
     "text": [
      "\r",
      " 42%|█████████████████████████████████                                             | 14/33 [00:06<00:08,  2.36frames/s]"
     ]
    },
    {
     "name": "stdout",
     "output_type": "stream",
     "text": [
      "1/1 [==============================] - 0s 20ms/step\n",
      "1/1 [==============================] - 0s 20ms/step\n",
      "1/1 [==============================] - 0s 19ms/step\n",
      "1/1 [==============================] - 0s 19ms/step\n",
      "1/1 [==============================] - 0s 16ms/step\n",
      "1/1 [==============================] - 0s 17ms/step\n",
      "1/1 [==============================] - 0s 17ms/step\n",
      "1/1 [==============================] - 0s 21ms/step\n",
      "1/1 [==============================] - 0s 18ms/step\n"
     ]
    },
    {
     "name": "stderr",
     "output_type": "stream",
     "text": [
      "\r",
      " 45%|███████████████████████████████████▍                                          | 15/33 [00:06<00:07,  2.33frames/s]"
     ]
    },
    {
     "name": "stdout",
     "output_type": "stream",
     "text": [
      "1/1 [==============================] - 0s 23ms/step\n",
      "1/1 [==============================] - 0s 18ms/step\n",
      "1/1 [==============================] - 0s 15ms/step\n",
      "1/1 [==============================] - 0s 17ms/step\n",
      "1/1 [==============================] - 0s 16ms/step\n",
      "1/1 [==============================] - 0s 17ms/step\n",
      "1/1 [==============================] - 0s 17ms/step\n",
      "1/1 [==============================] - 0s 18ms/step\n",
      "1/1 [==============================] - 0s 19ms/step\n"
     ]
    },
    {
     "name": "stderr",
     "output_type": "stream",
     "text": [
      "\r",
      " 48%|█████████████████████████████████████▊                                        | 16/33 [00:07<00:07,  2.35frames/s]"
     ]
    },
    {
     "name": "stdout",
     "output_type": "stream",
     "text": [
      "1/1 [==============================] - 0s 18ms/step\n",
      "1/1 [==============================] - 0s 16ms/step\n",
      "1/1 [==============================] - 0s 15ms/step\n",
      "1/1 [==============================] - 0s 16ms/step\n",
      "1/1 [==============================] - 0s 15ms/step\n",
      "1/1 [==============================] - 0s 15ms/step\n",
      "1/1 [==============================] - 0s 16ms/step\n",
      "1/1 [==============================] - 0s 17ms/step\n",
      "1/1 [==============================] - 0s 19ms/step\n"
     ]
    },
    {
     "name": "stderr",
     "output_type": "stream",
     "text": [
      "\r",
      " 52%|████████████████████████████████████████▏                                     | 17/33 [00:07<00:06,  2.41frames/s]"
     ]
    },
    {
     "name": "stdout",
     "output_type": "stream",
     "text": [
      "1/1 [==============================] - 0s 17ms/step\n",
      "1/1 [==============================] - 0s 17ms/step\n",
      "1/1 [==============================] - 0s 17ms/step\n",
      "1/1 [==============================] - 0s 16ms/step\n",
      "1/1 [==============================] - 0s 15ms/step\n",
      "1/1 [==============================] - 0s 15ms/step\n",
      "1/1 [==============================] - 0s 15ms/step\n",
      "1/1 [==============================] - 0s 16ms/step\n",
      "1/1 [==============================] - 0s 20ms/step\n"
     ]
    },
    {
     "name": "stderr",
     "output_type": "stream",
     "text": [
      "\r",
      " 55%|██████████████████████████████████████████▌                                   | 18/33 [00:07<00:06,  2.46frames/s]"
     ]
    },
    {
     "name": "stdout",
     "output_type": "stream",
     "text": [
      "1/1 [==============================] - 0s 17ms/step\n",
      "1/1 [==============================] - 0s 17ms/step\n",
      "1/1 [==============================] - 0s 19ms/step\n",
      "1/1 [==============================] - 0s 16ms/step\n",
      "1/1 [==============================] - 0s 15ms/step\n",
      "1/1 [==============================] - 0s 15ms/step\n",
      "1/1 [==============================] - 0s 18ms/step\n",
      "1/1 [==============================] - 0s 19ms/step\n",
      "1/1 [==============================] - 0s 18ms/step\n"
     ]
    },
    {
     "name": "stderr",
     "output_type": "stream",
     "text": [
      "\r",
      " 58%|████████████████████████████████████████████▉                                 | 19/33 [00:08<00:05,  2.48frames/s]"
     ]
    },
    {
     "name": "stdout",
     "output_type": "stream",
     "text": [
      "1/1 [==============================] - 0s 17ms/step\n",
      "1/1 [==============================] - 0s 18ms/step\n",
      "1/1 [==============================] - 0s 17ms/step\n",
      "1/1 [==============================] - 0s 16ms/step\n",
      "1/1 [==============================] - 0s 16ms/step\n",
      "1/1 [==============================] - 0s 15ms/step\n",
      "1/1 [==============================] - 0s 15ms/step\n",
      "1/1 [==============================] - 0s 18ms/step\n",
      "1/1 [==============================] - 0s 18ms/step\n"
     ]
    },
    {
     "name": "stderr",
     "output_type": "stream",
     "text": [
      "\r",
      " 61%|███████████████████████████████████████████████▎                              | 20/33 [00:08<00:05,  2.50frames/s]"
     ]
    },
    {
     "name": "stdout",
     "output_type": "stream",
     "text": [
      "1/1 [==============================] - 0s 19ms/step\n",
      "1/1 [==============================] - 0s 17ms/step\n",
      "1/1 [==============================] - 0s 16ms/step\n",
      "1/1 [==============================] - 0s 17ms/step\n",
      "1/1 [==============================] - 0s 15ms/step\n",
      "1/1 [==============================] - 0s 14ms/step\n",
      "1/1 [==============================] - 0s 15ms/step\n",
      "1/1 [==============================] - 0s 20ms/step\n",
      "1/1 [==============================] - 0s 20ms/step\n"
     ]
    },
    {
     "name": "stderr",
     "output_type": "stream",
     "text": [
      "\r",
      " 64%|█████████████████████████████████████████████████▋                            | 21/33 [00:08<00:04,  2.52frames/s]"
     ]
    },
    {
     "name": "stdout",
     "output_type": "stream",
     "text": [
      "1/1 [==============================] - 0s 19ms/step\n",
      "1/1 [==============================] - 0s 19ms/step\n",
      "1/1 [==============================] - 0s 18ms/step\n",
      "1/1 [==============================] - 0s 18ms/step\n",
      "1/1 [==============================] - 0s 17ms/step\n",
      "1/1 [==============================] - 0s 15ms/step\n",
      "1/1 [==============================] - 0s 16ms/step\n",
      "1/1 [==============================] - 0s 20ms/step\n",
      "1/1 [==============================] - 0s 23ms/step\n"
     ]
    },
    {
     "name": "stderr",
     "output_type": "stream",
     "text": [
      "\r",
      " 67%|████████████████████████████████████████████████████                          | 22/33 [00:09<00:04,  2.49frames/s]"
     ]
    },
    {
     "name": "stdout",
     "output_type": "stream",
     "text": [
      "1/1 [==============================] - 0s 18ms/step\n",
      "1/1 [==============================] - 0s 20ms/step\n",
      "1/1 [==============================] - 0s 16ms/step\n",
      "1/1 [==============================] - 0s 16ms/step\n",
      "1/1 [==============================] - 0s 16ms/step\n",
      "1/1 [==============================] - 0s 15ms/step\n",
      "1/1 [==============================] - 0s 15ms/step\n",
      "1/1 [==============================] - 0s 19ms/step\n",
      "1/1 [==============================] - 0s 20ms/step\n"
     ]
    },
    {
     "name": "stderr",
     "output_type": "stream",
     "text": [
      "\r",
      " 70%|██████████████████████████████████████████████████████▎                       | 23/33 [00:09<00:04,  2.48frames/s]"
     ]
    },
    {
     "name": "stdout",
     "output_type": "stream",
     "text": [
      "1/1 [==============================] - 0s 27ms/step\n",
      "1/1 [==============================] - 0s 23ms/step\n",
      "1/1 [==============================] - 0s 16ms/step\n",
      "1/1 [==============================] - 0s 16ms/step\n",
      "1/1 [==============================] - 0s 16ms/step\n",
      "1/1 [==============================] - 0s 16ms/step\n",
      "1/1 [==============================] - 0s 17ms/step\n",
      "1/1 [==============================] - 0s 20ms/step\n",
      "1/1 [==============================] - 0s 20ms/step\n"
     ]
    },
    {
     "name": "stderr",
     "output_type": "stream",
     "text": [
      "\r",
      " 73%|████████████████████████████████████████████████████████▋                     | 24/33 [00:10<00:03,  2.34frames/s]"
     ]
    },
    {
     "name": "stdout",
     "output_type": "stream",
     "text": [
      "1/1 [==============================] - 0s 26ms/step\n",
      "1/1 [==============================] - 0s 17ms/step\n",
      "1/1 [==============================] - 0s 16ms/step\n",
      "1/1 [==============================] - 0s 16ms/step\n",
      "1/1 [==============================] - 0s 16ms/step\n",
      "1/1 [==============================] - 0s 16ms/step\n",
      "1/1 [==============================] - 0s 16ms/step\n",
      "1/1 [==============================] - 0s 19ms/step\n",
      "1/1 [==============================] - 0s 18ms/step\n"
     ]
    },
    {
     "name": "stderr",
     "output_type": "stream",
     "text": [
      "\r",
      " 76%|███████████████████████████████████████████████████████████                   | 25/33 [00:10<00:03,  2.37frames/s]"
     ]
    },
    {
     "name": "stdout",
     "output_type": "stream",
     "text": [
      "1/1 [==============================] - 0s 18ms/step\n",
      "1/1 [==============================] - 0s 17ms/step\n",
      "1/1 [==============================] - 0s 16ms/step\n",
      "1/1 [==============================] - 0s 16ms/step\n",
      "1/1 [==============================] - 0s 16ms/step\n",
      "1/1 [==============================] - 0s 16ms/step\n",
      "1/1 [==============================] - 0s 19ms/step\n",
      "1/1 [==============================] - 0s 18ms/step\n",
      "1/1 [==============================] - 0s 18ms/step\n"
     ]
    },
    {
     "name": "stderr",
     "output_type": "stream",
     "text": [
      "\r",
      " 79%|█████████████████████████████████████████████████████████████▍                | 26/33 [00:11<00:02,  2.42frames/s]"
     ]
    },
    {
     "name": "stdout",
     "output_type": "stream",
     "text": [
      "1/1 [==============================] - 0s 18ms/step\n",
      "1/1 [==============================] - 0s 17ms/step\n",
      "1/1 [==============================] - 0s 17ms/step\n",
      "1/1 [==============================] - 0s 15ms/step\n",
      "1/1 [==============================] - 0s 15ms/step\n",
      "1/1 [==============================] - 0s 16ms/step\n",
      "1/1 [==============================] - 0s 16ms/step\n",
      "1/1 [==============================] - 0s 18ms/step\n",
      "1/1 [==============================] - 0s 19ms/step\n"
     ]
    },
    {
     "name": "stderr",
     "output_type": "stream",
     "text": [
      "\r",
      " 82%|███████████████████████████████████████████████████████████████▊              | 27/33 [00:11<00:02,  2.46frames/s]"
     ]
    },
    {
     "name": "stdout",
     "output_type": "stream",
     "text": [
      "1/1 [==============================] - 0s 17ms/step\n",
      "1/1 [==============================] - 0s 17ms/step\n",
      "1/1 [==============================] - 0s 17ms/step\n",
      "1/1 [==============================] - 0s 16ms/step\n",
      "1/1 [==============================] - 0s 17ms/step\n",
      "1/1 [==============================] - 0s 17ms/step\n",
      "1/1 [==============================] - 0s 15ms/step\n",
      "1/1 [==============================] - 0s 16ms/step\n",
      "1/1 [==============================] - 0s 19ms/step\n"
     ]
    },
    {
     "name": "stderr",
     "output_type": "stream",
     "text": [
      "\r",
      " 85%|██████████████████████████████████████████████████████████████████▏           | 28/33 [00:11<00:02,  2.47frames/s]"
     ]
    },
    {
     "name": "stdout",
     "output_type": "stream",
     "text": [
      "1/1 [==============================] - 0s 18ms/step\n",
      "1/1 [==============================] - 0s 17ms/step\n",
      "1/1 [==============================] - 0s 16ms/step\n",
      "1/1 [==============================] - 0s 16ms/step\n",
      "1/1 [==============================] - 0s 15ms/step\n",
      "1/1 [==============================] - 0s 15ms/step\n",
      "1/1 [==============================] - 0s 16ms/step\n",
      "1/1 [==============================] - 0s 18ms/step\n",
      "1/1 [==============================] - 0s 17ms/step\n"
     ]
    },
    {
     "name": "stderr",
     "output_type": "stream",
     "text": [
      "\r",
      " 88%|████████████████████████████████████████████████████████████████████▌         | 29/33 [00:12<00:01,  2.45frames/s]"
     ]
    },
    {
     "name": "stdout",
     "output_type": "stream",
     "text": [
      "1/1 [==============================] - 0s 18ms/step\n",
      "1/1 [==============================] - 0s 18ms/step\n",
      "1/1 [==============================] - 0s 16ms/step\n",
      "1/1 [==============================] - 0s 16ms/step\n",
      "1/1 [==============================] - 0s 17ms/step\n",
      "1/1 [==============================] - 0s 16ms/step\n",
      "1/1 [==============================] - 0s 17ms/step\n",
      "1/1 [==============================] - 0s 22ms/step\n",
      "1/1 [==============================] - 0s 22ms/step\n"
     ]
    },
    {
     "name": "stderr",
     "output_type": "stream",
     "text": [
      "\r",
      " 91%|██████████████████████████████████████████████████████████████████████▉       | 30/33 [00:12<00:01,  2.46frames/s]"
     ]
    },
    {
     "name": "stdout",
     "output_type": "stream",
     "text": [
      "1/1 [==============================] - 0s 18ms/step\n",
      "1/1 [==============================] - 0s 18ms/step\n",
      "1/1 [==============================] - 0s 16ms/step\n",
      "1/1 [==============================] - 0s 14ms/step\n",
      "1/1 [==============================] - 0s 16ms/step\n",
      "1/1 [==============================] - 0s 15ms/step\n",
      "1/1 [==============================] - 0s 19ms/step\n",
      "1/1 [==============================] - 0s 23ms/step\n",
      "1/1 [==============================] - 0s 17ms/step\n"
     ]
    },
    {
     "name": "stderr",
     "output_type": "stream",
     "text": [
      "\r",
      " 94%|█████████████████████████████████████████████████████████████████████████▎    | 31/33 [00:13<00:00,  2.38frames/s]"
     ]
    },
    {
     "name": "stdout",
     "output_type": "stream",
     "text": [
      "1/1 [==============================] - 0s 18ms/step\n",
      "1/1 [==============================] - 0s 17ms/step\n",
      "1/1 [==============================] - 0s 16ms/step\n",
      "1/1 [==============================] - 0s 16ms/step\n",
      "1/1 [==============================] - 0s 15ms/step\n",
      "1/1 [==============================] - 0s 14ms/step\n",
      "1/1 [==============================] - 0s 14ms/step\n",
      "1/1 [==============================] - 0s 21ms/step\n",
      "1/1 [==============================] - 0s 24ms/step\n"
     ]
    },
    {
     "name": "stderr",
     "output_type": "stream",
     "text": [
      "\r",
      " 97%|███████████████████████████████████████████████████████████████████████████▋  | 32/33 [00:13<00:00,  2.41frames/s]"
     ]
    },
    {
     "name": "stdout",
     "output_type": "stream",
     "text": [
      "1/1 [==============================] - 0s 20ms/step\n",
      "1/1 [==============================] - 0s 17ms/step\n",
      "1/1 [==============================] - 0s 17ms/step\n",
      "1/1 [==============================] - 0s 16ms/step\n",
      "1/1 [==============================] - 0s 15ms/step\n",
      "1/1 [==============================] - 0s 14ms/step\n",
      "1/1 [==============================] - 0s 14ms/step\n",
      "1/1 [==============================] - 0s 18ms/step\n",
      "1/1 [==============================] - 0s 18ms/step\n"
     ]
    },
    {
     "name": "stderr",
     "output_type": "stream",
     "text": [
      "100%|██████████████████████████████████████████████████████████████████████████████| 33/33 [00:13<00:00,  2.37frames/s]\n",
      "INFO:fer:Completed analysis: saved to output\\happy-emotional_output.gif\n",
      "INFO:fer:Starting to Zip\n",
      "INFO:fer:Zip has finished\n"
     ]
    }
   ],
   "source": [
    "processing_data = input_video.analyze(face_detector, display=False)"
   ]
  },
  {
   "cell_type": "code",
   "execution_count": 93,
   "id": "e8800135",
   "metadata": {},
   "outputs": [
    {
     "data": {
      "image/png": "[encoded data removed]",
      "text/plain": [
       "<Figure size 1440x576 with 1 Axes>"
      ]
     },
     "metadata": {},
     "output_type": "display_data"
    }
   ],
   "source": [
    "# We will now convert the analysed information into a dataframe.\n",
    "# This will help us import the data as a .CSV file to perform analysis over it later\n",
    "vid_df = input_video.to_pandas(processing_data)\n",
    "vid_df = input_video.get_first_face(vid_df)\n",
    "vid_df = input_video.get_emotions(vid_df)\n",
    "\n",
    "# Plotting the emotions against time in the video\n",
    "pltfig = vid_df.plot(figsize=(20, 8), fontsize=16).get_figure()"
   ]
  },
  {
   "cell_type": "code",
   "execution_count": 94,
   "id": "6c8c5276",
   "metadata": {},
   "outputs": [
    {
     "data": {
      "text/html": [
       "<div>\n",
       "<style scoped>\n",
       "    .dataframe tbody tr th:only-of-type {\n",
       "        vertical-align: middle;\n",
       "    }\n",
       "\n",
       "    .dataframe tbody tr th {\n",
       "        vertical-align: top;\n",
       "    }\n",
       "\n",
       "    .dataframe thead th {\n",
       "        text-align: right;\n",
       "    }\n",
       "</style>\n",
       "<table border=\"1\" class=\"dataframe\">\n",
       "  <thead>\n",
       "    <tr style=\"text-align: right;\">\n",
       "      <th></th>\n",
       "      <th>Human Emotions</th>\n",
       "      <th>Emotion Value from the Video</th>\n",
       "    </tr>\n",
       "  </thead>\n",
       "  <tbody>\n",
       "    <tr>\n",
       "      <th>0</th>\n",
       "      <td>Angry</td>\n",
       "      <td>0.04</td>\n",
       "    </tr>\n",
       "    <tr>\n",
       "      <th>1</th>\n",
       "      <td>Fear</td>\n",
       "      <td>0.02</td>\n",
       "    </tr>\n",
       "    <tr>\n",
       "      <th>2</th>\n",
       "      <td>Happy</td>\n",
       "      <td>31.83</td>\n",
       "    </tr>\n",
       "    <tr>\n",
       "      <th>3</th>\n",
       "      <td>Sad</td>\n",
       "      <td>0.04</td>\n",
       "    </tr>\n",
       "    <tr>\n",
       "      <th>4</th>\n",
       "      <td>Surprise</td>\n",
       "      <td>0.00</td>\n",
       "    </tr>\n",
       "    <tr>\n",
       "      <th>5</th>\n",
       "      <td>Neutral</td>\n",
       "      <td>1.03</td>\n",
       "    </tr>\n",
       "  </tbody>\n",
       "</table>\n",
       "</div>"
      ],
      "text/plain": [
       "  Human Emotions  Emotion Value from the Video\n",
       "0          Angry                          0.04\n",
       "1           Fear                          0.02\n",
       "2          Happy                         31.83\n",
       "3            Sad                          0.04\n",
       "4       Surprise                          0.00\n",
       "5        Neutral                          1.03"
      ]
     },
     "execution_count": 94,
     "metadata": {},
     "output_type": "execute_result"
    }
   ],
   "source": [
    "# We will now work on the dataframe to extract which emotion was prominent in the video\n",
    "angry = sum(vid_df.angry)\n",
    "fear = sum(vid_df.fear)\n",
    "happy = sum(vid_df.happy)\n",
    "sad = sum(vid_df.sad)\n",
    "surprise = sum(vid_df.surprise)\n",
    "neutral = sum(vid_df.neutral)\n",
    "\n",
    "emotions = ['Angry', 'Fear', 'Happy', 'Sad', 'Surprise', 'Neutral']\n",
    "emotions_values = [angry, fear, happy, sad, surprise, neutral]\n",
    "\n",
    "score_comparisons = pd.DataFrame(emotions, columns = ['Human Emotions'])\n",
    "score_comparisons['Emotion Value from the Video'] = emotions_values\n",
    "score_comparisons"
   ]
  },
  {
   "cell_type": "code",
   "execution_count": 95,
   "id": "9a81a0fc",
   "metadata": {},
   "outputs": [
    {
     "data": {
      "text/plain": [
       "'Happy'"
      ]
     },
     "execution_count": 95,
     "metadata": {},
     "output_type": "execute_result"
    }
   ],
   "source": [
    "listener_mood=score_comparisons.iloc[score_comparisons['Emotion Value from the Video'].argmax()]['Human Emotions']\n",
    "listener_mood"
   ]
  },
  {
   "cell_type": "code",
   "execution_count": 96,
   "id": "2646c87d",
   "metadata": {},
   "outputs": [
    {
     "data": {
      "text/plain": [
       "3"
      ]
     },
     "execution_count": 96,
     "metadata": {},
     "output_type": "execute_result"
    }
   ],
   "source": [
    "mood_clusters={'Fear':0,'Sad':1,'Angry':2,'Happy':3,\n",
    "               'Surprise':4, 'Neutral':5}\n",
    "mood_clusters[listener_mood]"
   ]
  },
  {
   "cell_type": "code",
   "execution_count": 97,
   "id": "63158592",
   "metadata": {},
   "outputs": [],
   "source": [
    "def show_tracks(tracks):\n",
    "    for i, item in enumerate(tracks['items']):\n",
    "        track = item['track']\n",
    "        print(\"%d %32.32s %s %s\" % (i+1, track['artists'][0]['name'],track['name'],track[\"uri\"])) \n",
    "        if(i==9):\n",
    "            break\n",
    "        "
   ]
  },
  {
   "cell_type": "code",
   "execution_count": 98,
   "id": "ac4622ba",
   "metadata": {},
   "outputs": [
    {
     "name": "stdout",
     "output_type": "stream",
     "text": [
      "You seem to be in a Happy mood\n",
      "Check out some songs from this playlist\n",
      "Cluster 2\n",
      "1                         Stardust Music Sounds Better With You spotify:track:303ccTay2FiDTZ9fZ2AdBt\n",
      "2                     Lana Del Rey Cherry spotify:track:1Ym6aMuT5bliaZMC67AmPp\n",
      "3                            Cults Always Forever spotify:track:2enPRFda84VE2wtI8c86Uf\n",
      "4                             Joji Sanctuary spotify:track:5F1ZmucV0uJY14y2dYKePa\n",
      "5                        Radiohead No Surprises - Remastered spotify:track:39UJG380DXNHAa07pGdVgI\n",
      "6                            Darci Cold (feat. CADE) spotify:track:6vW6R25Gp5dbXKShm40gfg\n",
      "7                             Iyaz Replay spotify:track:294z5BgFzm1nUSjVwbQqFG\n",
      "8                        SAINt JHN The Best Part of Life spotify:track:0kUz4NuENHYVUChlthlNaB\n",
      "9                    Calvin Harris Outside (feat. Ellie Goulding) spotify:track:7MmG8p0F9N3C4AXdK6o6Eb\n",
      "10               Too Close To Touch Miss Your Face spotify:track:7Dy4FIQKMS1sHSgSM435kK\n"
     ]
    }
   ],
   "source": [
    "playlist=sp.playlist(playlists[5-mood_clusters[listener_mood]]['id'])\n",
    "if playlist['owner']['id'] == username:\n",
    "    print(\"You seem to be in a {} mood\".format(listener_mood))\n",
    "    print(\"Check out some songs from this playlist\")\n",
    "    print(playlist['name'])\n",
    "    \n",
    "    results = sp.playlist(playlist['id'],fields=\"tracks,next\")\n",
    "    tracks = results['tracks']\n",
    "    show_tracks(tracks)\n",
    "    while tracks['next']:\n",
    "        tracks = sp.next(tracks)\n",
    "        show_tracks(tracks)"
   ]
  },
  {
   "cell_type": "code",
   "execution_count": null,
   "id": "81ab9ebb",
   "metadata": {},
   "outputs": [],
   "source": []
  }
 ],
 "metadata": {
  "kernelspec": {
   "display_name": "Python 3 (ipykernel)",
   "language": "python",
   "name": "python3"
  },
  "language_info": {
   "codemirror_mode": {
    "name": "ipython",
    "version": 3
   },
   "file_extension": ".py",
   "mimetype": "text/x-python",
   "name": "python",
   "nbconvert_exporter": "python",
   "pygments_lexer": "ipython3",
   "version": "3.9.10"
  }
 },
 "nbformat": 4,
 "nbformat_minor": 5
}
